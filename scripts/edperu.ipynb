{
 "cells": [
  {
   "cell_type": "code",
   "execution_count": 1,
   "metadata": {},
   "outputs": [],
   "source": [
    "%load_ext cudf.pandas\n",
    "import pandas as pd\n",
    "import numpy as np\n",
    "import matplotlib.pyplot as plt\n",
    "import os"
   ]
  },
  {
   "cell_type": "code",
   "execution_count": 26,
   "metadata": {},
   "outputs": [],
   "source": [
    "p = \"/home/sistemas/Documents/sexto/Covid-LATAM-Study/peru/positivos_covid.csv\"\n",
    "p2 = \"/home/sistemas/Documents/sexto/Covid-LATAM-Study/peru/fallecidos_covid.csv\"\n",
    "d = pd.read_csv(p,sep=';',usecols=[\"EDAD\",'SEXO'])\n",
    "d2 = pd.read_csv(p2,sep=';',usecols=[\"EDAD_DECLARADA\",'SEXO'])\n"
   ]
  },
  {
   "cell_type": "code",
   "execution_count": 25,
   "metadata": {},
   "outputs": [
    {
     "data": {
      "text/plain": [
       "Index(['FECHA_CORTE', 'DEPARTAMENTO', 'PROVINCIA', 'DISTRITO', 'METODODX',\n",
       "       'EDAD', 'SEXO', 'FECHA_RESULTADO', 'UBIGEO', 'id_persona'],\n",
       "      dtype='object')"
      ]
     },
     "execution_count": 25,
     "metadata": {},
     "output_type": "execute_result"
    }
   ],
   "source": [
    "d.columns"
   ]
  },
  {
   "cell_type": "code",
   "execution_count": 6,
   "metadata": {},
   "outputs": [
    {
     "data": {
      "text/html": [
       "<div>\n",
       "<style scoped>\n",
       "    .dataframe tbody tr th:only-of-type {\n",
       "        vertical-align: middle;\n",
       "    }\n",
       "\n",
       "    .dataframe tbody tr th {\n",
       "        vertical-align: top;\n",
       "    }\n",
       "\n",
       "    .dataframe thead th {\n",
       "        text-align: right;\n",
       "    }\n",
       "</style>\n",
       "<table border=\"1\" class=\"dataframe\">\n",
       "  <thead>\n",
       "    <tr style=\"text-align: right;\">\n",
       "      <th></th>\n",
       "      <th>FECHA_CORTE</th>\n",
       "      <th>DEPARTAMENTO</th>\n",
       "      <th>PROVINCIA</th>\n",
       "      <th>DISTRITO</th>\n",
       "      <th>METODODX</th>\n",
       "      <th>EDAD</th>\n",
       "      <th>SEXO</th>\n",
       "      <th>FECHA_RESULTADO</th>\n",
       "      <th>UBIGEO</th>\n",
       "      <th>id_persona</th>\n",
       "    </tr>\n",
       "  </thead>\n",
       "  <tbody>\n",
       "    <tr>\n",
       "      <th>0</th>\n",
       "      <td>20241203</td>\n",
       "      <td>TUMBES</td>\n",
       "      <td>TUMBES</td>\n",
       "      <td>TUMBES</td>\n",
       "      <td>AG</td>\n",
       "      <td>46</td>\n",
       "      <td>FEMENINO</td>\n",
       "      <td>20221207</td>\n",
       "      <td>240101</td>\n",
       "      <td>203499</td>\n",
       "    </tr>\n",
       "    <tr>\n",
       "      <th>1</th>\n",
       "      <td>20241203</td>\n",
       "      <td>LIMA</td>\n",
       "      <td>LIMA</td>\n",
       "      <td>JESUS MARIA</td>\n",
       "      <td>AG</td>\n",
       "      <td>69</td>\n",
       "      <td>FEMENINO</td>\n",
       "      <td>20230822</td>\n",
       "      <td>150113</td>\n",
       "      <td>221397</td>\n",
       "    </tr>\n",
       "    <tr>\n",
       "      <th>2</th>\n",
       "      <td>20241203</td>\n",
       "      <td>SAN MARTIN</td>\n",
       "      <td>MOYOBAMBA</td>\n",
       "      <td>MOYOBAMBA</td>\n",
       "      <td>AG</td>\n",
       "      <td>55</td>\n",
       "      <td>FEMENINO</td>\n",
       "      <td>20240108</td>\n",
       "      <td>220101</td>\n",
       "      <td>295651</td>\n",
       "    </tr>\n",
       "    <tr>\n",
       "      <th>3</th>\n",
       "      <td>20241203</td>\n",
       "      <td>AREQUIPA</td>\n",
       "      <td>CAYLLOMA</td>\n",
       "      <td>COPORAQUE</td>\n",
       "      <td>AG</td>\n",
       "      <td>50</td>\n",
       "      <td>MASCULINO</td>\n",
       "      <td>20230824</td>\n",
       "      <td>40506</td>\n",
       "      <td>851625</td>\n",
       "    </tr>\n",
       "    <tr>\n",
       "      <th>4</th>\n",
       "      <td>20241203</td>\n",
       "      <td>LIMA</td>\n",
       "      <td>LIMA</td>\n",
       "      <td>JESUS MARIA</td>\n",
       "      <td>AG</td>\n",
       "      <td>58</td>\n",
       "      <td>MASCULINO</td>\n",
       "      <td>20221217</td>\n",
       "      <td>150113</td>\n",
       "      <td>287786</td>\n",
       "    </tr>\n",
       "    <tr>\n",
       "      <th>5</th>\n",
       "      <td>20241203</td>\n",
       "      <td>AREQUIPA</td>\n",
       "      <td>AREQUIPA</td>\n",
       "      <td>AREQUIPA</td>\n",
       "      <td>AG</td>\n",
       "      <td>21</td>\n",
       "      <td>FEMENINO</td>\n",
       "      <td>20220111</td>\n",
       "      <td>40101</td>\n",
       "      <td>222704</td>\n",
       "    </tr>\n",
       "    <tr>\n",
       "      <th>6</th>\n",
       "      <td>20241203</td>\n",
       "      <td>SAN MARTIN</td>\n",
       "      <td>SAN MARTIN</td>\n",
       "      <td>MORALES</td>\n",
       "      <td>AG</td>\n",
       "      <td>49</td>\n",
       "      <td>MASCULINO</td>\n",
       "      <td>20221207</td>\n",
       "      <td>220910</td>\n",
       "      <td>240360</td>\n",
       "    </tr>\n",
       "    <tr>\n",
       "      <th>7</th>\n",
       "      <td>20241203</td>\n",
       "      <td>PIURA</td>\n",
       "      <td>SULLANA</td>\n",
       "      <td>SULLANA</td>\n",
       "      <td>AG</td>\n",
       "      <td>72</td>\n",
       "      <td>FEMENINO</td>\n",
       "      <td>20231010</td>\n",
       "      <td>200601</td>\n",
       "      <td>853074</td>\n",
       "    </tr>\n",
       "    <tr>\n",
       "      <th>8</th>\n",
       "      <td>20241203</td>\n",
       "      <td>TACNA</td>\n",
       "      <td>TACNA</td>\n",
       "      <td>TACNA</td>\n",
       "      <td>AG</td>\n",
       "      <td>45</td>\n",
       "      <td>MASCULINO</td>\n",
       "      <td>20221216</td>\n",
       "      <td>230101</td>\n",
       "      <td>206939</td>\n",
       "    </tr>\n",
       "  </tbody>\n",
       "</table>\n",
       "</div>"
      ],
      "text/plain": [
       "   FECHA_CORTE DEPARTAMENTO   PROVINCIA     DISTRITO METODODX  EDAD  \\\n",
       "0     20241203       TUMBES      TUMBES       TUMBES       AG    46   \n",
       "1     20241203         LIMA        LIMA  JESUS MARIA       AG    69   \n",
       "2     20241203   SAN MARTIN   MOYOBAMBA    MOYOBAMBA       AG    55   \n",
       "3     20241203     AREQUIPA    CAYLLOMA    COPORAQUE       AG    50   \n",
       "4     20241203         LIMA        LIMA  JESUS MARIA       AG    58   \n",
       "5     20241203     AREQUIPA    AREQUIPA     AREQUIPA       AG    21   \n",
       "6     20241203   SAN MARTIN  SAN MARTIN      MORALES       AG    49   \n",
       "7     20241203        PIURA     SULLANA      SULLANA       AG    72   \n",
       "8     20241203        TACNA       TACNA        TACNA       AG    45   \n",
       "\n",
       "        SEXO  FECHA_RESULTADO  UBIGEO  id_persona  \n",
       "0   FEMENINO         20221207  240101      203499  \n",
       "1   FEMENINO         20230822  150113      221397  \n",
       "2   FEMENINO         20240108  220101      295651  \n",
       "3  MASCULINO         20230824   40506      851625  \n",
       "4  MASCULINO         20221217  150113      287786  \n",
       "5   FEMENINO         20220111   40101      222704  \n",
       "6  MASCULINO         20221207  220910      240360  \n",
       "7   FEMENINO         20231010  200601      853074  \n",
       "8  MASCULINO         20221216  230101      206939  "
      ]
     },
     "execution_count": 6,
     "metadata": {},
     "output_type": "execute_result"
    }
   ],
   "source": [
    "d.head(9)"
   ]
  },
  {
   "cell_type": "code",
   "execution_count": 21,
   "metadata": {},
   "outputs": [
    {
     "name": "stdout",
     "output_type": "stream",
     "text": [
      "<class 'cudf.core.dataframe.DataFrame'>\n",
      "RangeIndex: 4585360 entries, 0 to 4585359\n",
      "Data columns (total 10 columns):\n",
      " #   Column           Dtype\n",
      "---  ------           -----\n",
      " 0   FECHA_CORTE      int64\n",
      " 1   DEPARTAMENTO     object\n",
      " 2   PROVINCIA        object\n",
      " 3   DISTRITO         object\n",
      " 4   METODODX         object\n",
      " 5   EDAD             int64\n",
      " 6   SEXO             object\n",
      " 7   FECHA_RESULTADO  int64\n",
      " 8   UBIGEO           int64\n",
      " 9   id_persona       int64\n",
      "dtypes: int64(5), object(5)\n",
      "memory usage: 410.2+ MB\n"
     ]
    }
   ],
   "source": [
    "d.info()"
   ]
  },
  {
   "cell_type": "code",
   "execution_count": 10,
   "metadata": {},
   "outputs": [
    {
     "data": {
      "text/plain": [
       "SEXO\n",
       "FEMENINO     566\n",
       "MASCULINO    434\n",
       "Name: count, dtype: int64"
      ]
     },
     "execution_count": 10,
     "metadata": {},
     "output_type": "execute_result"
    }
   ],
   "source": [
    "d.SEXO.value_counts()"
   ]
  },
  {
   "cell_type": "code",
   "execution_count": 33,
   "metadata": {},
   "outputs": [],
   "source": [
    "total = {}\n",
    "\n",
    "\n",
    "total[\"poblacion\"] = []\n",
    "total[\"Edad0-15\"] = []\n",
    "total[\"Edad16-30\"] = []\n",
    "total[\"Edad31-45\"] = []\n",
    "total[\"Edad46-60\"] = []\n",
    "total[\"Edad61-75\"] = []\n",
    "total[\"Edad76-90\"] = []\n",
    "total[\"Edad91-105\"] = []\n",
    "total[\"hombres\"] = []\n",
    "total[\"mujeres\"] = []\n",
    "#total[\"intubado\"] = []\n",
    "#total[\"no_especificado\"] = []\n",
    "\n",
    "\n",
    "\n",
    "total[\"defunciones\"] = []\n",
    "#total[\"recuperados\"] = []\n",
    "#total[\"activos\"] = []\n",
    "#total[\"hospitalizados\"] = []\n"
   ]
  },
  {
   "cell_type": "code",
   "execution_count": 34,
   "metadata": {},
   "outputs": [],
   "source": [
    "bins = [0, 15, 30, 45, 60, 75, 90, 105]\n",
    "labels = [\n",
    "        \"Edad0-15\",\n",
    "        \"Edad16-30\",\n",
    "        \"Edad31-45\",\n",
    "        \"Edad46-60\",\n",
    "        \"Edad61-75\",\n",
    "        \"Edad76-90\",\n",
    "        \"Edad91-105\",\n",
    "]\n",
    "age_groups = pd.cut(d.EDAD, bins=bins, labels=labels, right=False).value_counts()\n",
    "for label in labels:\n",
    "        total[label].append(age_groups.get(label, 0))\n",
    "total[\"poblacion\"].append(d.shape[0]+d2.shape[0])\n",
    "sexo_counts = d.SEXO.value_counts() \n",
    "s2 = d2.SEXO.value_counts()\n",
    "total[\"hombres\"].append(sexo_counts.get(\"FEMENINO\", 0) + s2.get(\"FEMENINO\", 0))\n",
    "total[\"mujeres\"].append(sexo_counts.get(\"MASCULINO\", 0)+ s2.get(\"MASCULINO\", 0))\n",
    "total[\"defunciones\"].append(d2.shape[0])"
   ]
  },
  {
   "cell_type": "code",
   "execution_count": 37,
   "metadata": {},
   "outputs": [],
   "source": [
    "totales = pd.DataFrame.from_dict(total)\n",
    "totales.to_csv(\"peru.csv\")"
   ]
  },
  {
   "cell_type": "code",
   "execution_count": 38,
   "metadata": {},
   "outputs": [
    {
     "data": {
      "text/html": [
       "<div>\n",
       "<style scoped>\n",
       "    .dataframe tbody tr th:only-of-type {\n",
       "        vertical-align: middle;\n",
       "    }\n",
       "\n",
       "    .dataframe tbody tr th {\n",
       "        vertical-align: top;\n",
       "    }\n",
       "\n",
       "    .dataframe thead th {\n",
       "        text-align: right;\n",
       "    }\n",
       "</style>\n",
       "<table border=\"1\" class=\"dataframe\">\n",
       "  <thead>\n",
       "    <tr style=\"text-align: right;\">\n",
       "      <th></th>\n",
       "      <th>poblacion</th>\n",
       "      <th>Edad0-15</th>\n",
       "      <th>Edad16-30</th>\n",
       "      <th>Edad31-45</th>\n",
       "      <th>Edad46-60</th>\n",
       "      <th>Edad61-75</th>\n",
       "      <th>Edad76-90</th>\n",
       "      <th>Edad91-105</th>\n",
       "      <th>hombres</th>\n",
       "      <th>mujeres</th>\n",
       "      <th>defunciones</th>\n",
       "    </tr>\n",
       "  </thead>\n",
       "  <tbody>\n",
       "    <tr>\n",
       "      <th>0</th>\n",
       "      <td>4806278</td>\n",
       "      <td>228397</td>\n",
       "      <td>1092614</td>\n",
       "      <td>1498971</td>\n",
       "      <td>1037910</td>\n",
       "      <td>533848</td>\n",
       "      <td>175023</td>\n",
       "      <td>18126</td>\n",
       "      <td>2458481</td>\n",
       "      <td>2347797</td>\n",
       "      <td>220918</td>\n",
       "    </tr>\n",
       "  </tbody>\n",
       "</table>\n",
       "</div>"
      ],
      "text/plain": [
       "   poblacion  Edad0-15  Edad16-30  Edad31-45  Edad46-60  Edad61-75  Edad76-90  \\\n",
       "0    4806278    228397    1092614    1498971    1037910     533848     175023   \n",
       "\n",
       "   Edad91-105  hombres  mujeres  defunciones  \n",
       "0       18126  2458481  2347797       220918  "
      ]
     },
     "execution_count": 38,
     "metadata": {},
     "output_type": "execute_result"
    }
   ],
   "source": [
    "totales"
   ]
  }
 ],
 "metadata": {
  "kernelspec": {
   "display_name": "diplo",
   "language": "python",
   "name": "python3"
  },
  "language_info": {
   "codemirror_mode": {
    "name": "ipython",
    "version": 3
   },
   "file_extension": ".py",
   "mimetype": "text/x-python",
   "name": "python",
   "nbconvert_exporter": "python",
   "pygments_lexer": "ipython3",
   "version": "3.9.18"
  }
 },
 "nbformat": 4,
 "nbformat_minor": 2
}
