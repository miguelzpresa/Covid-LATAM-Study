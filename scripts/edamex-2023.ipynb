{
 "cells": [
  {
   "cell_type": "code",
   "execution_count": 3,
   "metadata": {},
   "outputs": [],
   "source": [
    "import pandas as pd\n",
    "import numpy as np\n",
    "import matplotlib.pyplot as plt\n",
    "import requests\n",
    "import os\n",
    "import zipfile\n"
   ]
  },
  {
   "cell_type": "markdown",
   "metadata": {},
   "source": [
    "### data collector"
   ]
  },
  {
   "cell_type": "code",
   "execution_count": 10,
   "metadata": {},
   "outputs": [],
   "source": [
    "m = ['01', '02', '03', '04', '05', '06', '07', '08', '09', '10', '11', '12']\n",
    "d = ['01', '02', '03', '04', '05', '06', '07', '08', '09', '10', '11', '12', '13', '14', '15', '16', '17', '18', '19', '20', '21', '22', '23', '24', '25', '26', '27', '28', '29', '30', '31']\n",
    "urls = []\n",
    "for mes in m:\n",
    "    for dia in d:\n",
    "\n",
    "         urls.append(f'https://datosabiertos.salud.gob.mx/gobmx/salud/datos_abiertos/historicos/2022/{mes}/datos_abiertos_covid19_{dia}.{mes}.2022.zip')\n",
    "        \n"
   ]
  },
  {
   "cell_type": "code",
   "execution_count": 3,
   "metadata": {},
   "outputs": [
    {
     "data": {
      "text/plain": [
       "'/home/sistemas/Documents/sexto/Covid-LATAM-Study/new'"
      ]
     },
     "execution_count": 3,
     "metadata": {},
     "output_type": "execute_result"
    }
   ],
   "source": [
    "%pwd"
   ]
  },
  {
   "cell_type": "code",
   "execution_count": 11,
   "metadata": {},
   "outputs": [
    {
     "ename": "KeyboardInterrupt",
     "evalue": "",
     "output_type": "error",
     "traceback": [
      "\u001b[0;31m---------------------------------------------------------------------------\u001b[0m",
      "\u001b[0;31mKeyboardInterrupt\u001b[0m                         Traceback (most recent call last)",
      "Cell \u001b[0;32mIn[11], line 13\u001b[0m\n\u001b[1;32m     11\u001b[0m \u001b[38;5;66;03m# Descargar el archivo zip\u001b[39;00m\n\u001b[1;32m     12\u001b[0m \u001b[38;5;28;01mtry\u001b[39;00m:\n\u001b[0;32m---> 13\u001b[0m     response \u001b[38;5;241m=\u001b[39m \u001b[43mrequests\u001b[49m\u001b[38;5;241;43m.\u001b[39;49m\u001b[43mget\u001b[49m\u001b[43m(\u001b[49m\u001b[43murl\u001b[49m\u001b[43m)\u001b[49m\n\u001b[1;32m     14\u001b[0m     response\u001b[38;5;241m.\u001b[39mraise_for_status()\n\u001b[1;32m     15\u001b[0m     \u001b[38;5;66;03m# Abre el archivo en modo de escritura binaria y escribe el contenido de la respuesta\u001b[39;00m\n",
      "File \u001b[0;32m~/miniconda3/envs/diplo/lib/python3.9/site-packages/requests/api.py:73\u001b[0m, in \u001b[0;36mget\u001b[0;34m(url, params, **kwargs)\u001b[0m\n\u001b[1;32m     62\u001b[0m \u001b[38;5;28;01mdef\u001b[39;00m \u001b[38;5;21mget\u001b[39m(url, params\u001b[38;5;241m=\u001b[39m\u001b[38;5;28;01mNone\u001b[39;00m, \u001b[38;5;241m*\u001b[39m\u001b[38;5;241m*\u001b[39mkwargs):\n\u001b[1;32m     63\u001b[0m \u001b[38;5;250m    \u001b[39m\u001b[38;5;124mr\u001b[39m\u001b[38;5;124;03m\"\"\"Sends a GET request.\u001b[39;00m\n\u001b[1;32m     64\u001b[0m \n\u001b[1;32m     65\u001b[0m \u001b[38;5;124;03m    :param url: URL for the new :class:`Request` object.\u001b[39;00m\n\u001b[0;32m   (...)\u001b[0m\n\u001b[1;32m     70\u001b[0m \u001b[38;5;124;03m    :rtype: requests.Response\u001b[39;00m\n\u001b[1;32m     71\u001b[0m \u001b[38;5;124;03m    \"\"\"\u001b[39;00m\n\u001b[0;32m---> 73\u001b[0m     \u001b[38;5;28;01mreturn\u001b[39;00m \u001b[43mrequest\u001b[49m\u001b[43m(\u001b[49m\u001b[38;5;124;43m\"\u001b[39;49m\u001b[38;5;124;43mget\u001b[39;49m\u001b[38;5;124;43m\"\u001b[39;49m\u001b[43m,\u001b[49m\u001b[43m \u001b[49m\u001b[43murl\u001b[49m\u001b[43m,\u001b[49m\u001b[43m \u001b[49m\u001b[43mparams\u001b[49m\u001b[38;5;241;43m=\u001b[39;49m\u001b[43mparams\u001b[49m\u001b[43m,\u001b[49m\u001b[43m \u001b[49m\u001b[38;5;241;43m*\u001b[39;49m\u001b[38;5;241;43m*\u001b[39;49m\u001b[43mkwargs\u001b[49m\u001b[43m)\u001b[49m\n",
      "File \u001b[0;32m~/miniconda3/envs/diplo/lib/python3.9/site-packages/requests/api.py:59\u001b[0m, in \u001b[0;36mrequest\u001b[0;34m(method, url, **kwargs)\u001b[0m\n\u001b[1;32m     55\u001b[0m \u001b[38;5;66;03m# By using the 'with' statement we are sure the session is closed, thus we\u001b[39;00m\n\u001b[1;32m     56\u001b[0m \u001b[38;5;66;03m# avoid leaving sockets open which can trigger a ResourceWarning in some\u001b[39;00m\n\u001b[1;32m     57\u001b[0m \u001b[38;5;66;03m# cases, and look like a memory leak in others.\u001b[39;00m\n\u001b[1;32m     58\u001b[0m \u001b[38;5;28;01mwith\u001b[39;00m sessions\u001b[38;5;241m.\u001b[39mSession() \u001b[38;5;28;01mas\u001b[39;00m session:\n\u001b[0;32m---> 59\u001b[0m     \u001b[38;5;28;01mreturn\u001b[39;00m \u001b[43msession\u001b[49m\u001b[38;5;241;43m.\u001b[39;49m\u001b[43mrequest\u001b[49m\u001b[43m(\u001b[49m\u001b[43mmethod\u001b[49m\u001b[38;5;241;43m=\u001b[39;49m\u001b[43mmethod\u001b[49m\u001b[43m,\u001b[49m\u001b[43m \u001b[49m\u001b[43murl\u001b[49m\u001b[38;5;241;43m=\u001b[39;49m\u001b[43murl\u001b[49m\u001b[43m,\u001b[49m\u001b[43m \u001b[49m\u001b[38;5;241;43m*\u001b[39;49m\u001b[38;5;241;43m*\u001b[39;49m\u001b[43mkwargs\u001b[49m\u001b[43m)\u001b[49m\n",
      "File \u001b[0;32m~/miniconda3/envs/diplo/lib/python3.9/site-packages/requests/sessions.py:589\u001b[0m, in \u001b[0;36mSession.request\u001b[0;34m(self, method, url, params, data, headers, cookies, files, auth, timeout, allow_redirects, proxies, hooks, stream, verify, cert, json)\u001b[0m\n\u001b[1;32m    584\u001b[0m send_kwargs \u001b[38;5;241m=\u001b[39m {\n\u001b[1;32m    585\u001b[0m     \u001b[38;5;124m\"\u001b[39m\u001b[38;5;124mtimeout\u001b[39m\u001b[38;5;124m\"\u001b[39m: timeout,\n\u001b[1;32m    586\u001b[0m     \u001b[38;5;124m\"\u001b[39m\u001b[38;5;124mallow_redirects\u001b[39m\u001b[38;5;124m\"\u001b[39m: allow_redirects,\n\u001b[1;32m    587\u001b[0m }\n\u001b[1;32m    588\u001b[0m send_kwargs\u001b[38;5;241m.\u001b[39mupdate(settings)\n\u001b[0;32m--> 589\u001b[0m resp \u001b[38;5;241m=\u001b[39m \u001b[38;5;28;43mself\u001b[39;49m\u001b[38;5;241;43m.\u001b[39;49m\u001b[43msend\u001b[49m\u001b[43m(\u001b[49m\u001b[43mprep\u001b[49m\u001b[43m,\u001b[49m\u001b[43m \u001b[49m\u001b[38;5;241;43m*\u001b[39;49m\u001b[38;5;241;43m*\u001b[39;49m\u001b[43msend_kwargs\u001b[49m\u001b[43m)\u001b[49m\n\u001b[1;32m    591\u001b[0m \u001b[38;5;28;01mreturn\u001b[39;00m resp\n",
      "File \u001b[0;32m~/miniconda3/envs/diplo/lib/python3.9/site-packages/requests/sessions.py:747\u001b[0m, in \u001b[0;36mSession.send\u001b[0;34m(self, request, **kwargs)\u001b[0m\n\u001b[1;32m    744\u001b[0m         \u001b[38;5;28;01mpass\u001b[39;00m\n\u001b[1;32m    746\u001b[0m \u001b[38;5;28;01mif\u001b[39;00m \u001b[38;5;129;01mnot\u001b[39;00m stream:\n\u001b[0;32m--> 747\u001b[0m     \u001b[43mr\u001b[49m\u001b[38;5;241;43m.\u001b[39;49m\u001b[43mcontent\u001b[49m\n\u001b[1;32m    749\u001b[0m \u001b[38;5;28;01mreturn\u001b[39;00m r\n",
      "File \u001b[0;32m~/miniconda3/envs/diplo/lib/python3.9/site-packages/requests/models.py:899\u001b[0m, in \u001b[0;36mResponse.content\u001b[0;34m(self)\u001b[0m\n\u001b[1;32m    897\u001b[0m         \u001b[38;5;28mself\u001b[39m\u001b[38;5;241m.\u001b[39m_content \u001b[38;5;241m=\u001b[39m \u001b[38;5;28;01mNone\u001b[39;00m\n\u001b[1;32m    898\u001b[0m     \u001b[38;5;28;01melse\u001b[39;00m:\n\u001b[0;32m--> 899\u001b[0m         \u001b[38;5;28mself\u001b[39m\u001b[38;5;241m.\u001b[39m_content \u001b[38;5;241m=\u001b[39m \u001b[38;5;124;43mb\u001b[39;49m\u001b[38;5;124;43m\"\u001b[39;49m\u001b[38;5;124;43m\"\u001b[39;49m\u001b[38;5;241;43m.\u001b[39;49m\u001b[43mjoin\u001b[49m\u001b[43m(\u001b[49m\u001b[38;5;28;43mself\u001b[39;49m\u001b[38;5;241;43m.\u001b[39;49m\u001b[43miter_content\u001b[49m\u001b[43m(\u001b[49m\u001b[43mCONTENT_CHUNK_SIZE\u001b[49m\u001b[43m)\u001b[49m\u001b[43m)\u001b[49m \u001b[38;5;129;01mor\u001b[39;00m \u001b[38;5;124mb\u001b[39m\u001b[38;5;124m\"\u001b[39m\u001b[38;5;124m\"\u001b[39m\n\u001b[1;32m    901\u001b[0m \u001b[38;5;28mself\u001b[39m\u001b[38;5;241m.\u001b[39m_content_consumed \u001b[38;5;241m=\u001b[39m \u001b[38;5;28;01mTrue\u001b[39;00m\n\u001b[1;32m    902\u001b[0m \u001b[38;5;66;03m# don't need to release the connection; that's been handled by urllib3\u001b[39;00m\n\u001b[1;32m    903\u001b[0m \u001b[38;5;66;03m# since we exhausted the data.\u001b[39;00m\n",
      "File \u001b[0;32m~/miniconda3/envs/diplo/lib/python3.9/site-packages/requests/models.py:816\u001b[0m, in \u001b[0;36mResponse.iter_content.<locals>.generate\u001b[0;34m()\u001b[0m\n\u001b[1;32m    814\u001b[0m \u001b[38;5;28;01mif\u001b[39;00m \u001b[38;5;28mhasattr\u001b[39m(\u001b[38;5;28mself\u001b[39m\u001b[38;5;241m.\u001b[39mraw, \u001b[38;5;124m\"\u001b[39m\u001b[38;5;124mstream\u001b[39m\u001b[38;5;124m\"\u001b[39m):\n\u001b[1;32m    815\u001b[0m     \u001b[38;5;28;01mtry\u001b[39;00m:\n\u001b[0;32m--> 816\u001b[0m         \u001b[38;5;28;01myield from\u001b[39;00m \u001b[38;5;28mself\u001b[39m\u001b[38;5;241m.\u001b[39mraw\u001b[38;5;241m.\u001b[39mstream(chunk_size, decode_content\u001b[38;5;241m=\u001b[39m\u001b[38;5;28;01mTrue\u001b[39;00m)\n\u001b[1;32m    817\u001b[0m     \u001b[38;5;28;01mexcept\u001b[39;00m ProtocolError \u001b[38;5;28;01mas\u001b[39;00m e:\n\u001b[1;32m    818\u001b[0m         \u001b[38;5;28;01mraise\u001b[39;00m ChunkedEncodingError(e)\n",
      "File \u001b[0;32m~/miniconda3/envs/diplo/lib/python3.9/site-packages/urllib3/response.py:934\u001b[0m, in \u001b[0;36mHTTPResponse.stream\u001b[0;34m(self, amt, decode_content)\u001b[0m\n\u001b[1;32m    932\u001b[0m \u001b[38;5;28;01melse\u001b[39;00m:\n\u001b[1;32m    933\u001b[0m     \u001b[38;5;28;01mwhile\u001b[39;00m \u001b[38;5;129;01mnot\u001b[39;00m is_fp_closed(\u001b[38;5;28mself\u001b[39m\u001b[38;5;241m.\u001b[39m_fp) \u001b[38;5;129;01mor\u001b[39;00m \u001b[38;5;28mlen\u001b[39m(\u001b[38;5;28mself\u001b[39m\u001b[38;5;241m.\u001b[39m_decoded_buffer) \u001b[38;5;241m>\u001b[39m \u001b[38;5;241m0\u001b[39m:\n\u001b[0;32m--> 934\u001b[0m         data \u001b[38;5;241m=\u001b[39m \u001b[38;5;28;43mself\u001b[39;49m\u001b[38;5;241;43m.\u001b[39;49m\u001b[43mread\u001b[49m\u001b[43m(\u001b[49m\u001b[43mamt\u001b[49m\u001b[38;5;241;43m=\u001b[39;49m\u001b[43mamt\u001b[49m\u001b[43m,\u001b[49m\u001b[43m \u001b[49m\u001b[43mdecode_content\u001b[49m\u001b[38;5;241;43m=\u001b[39;49m\u001b[43mdecode_content\u001b[49m\u001b[43m)\u001b[49m\n\u001b[1;32m    936\u001b[0m         \u001b[38;5;28;01mif\u001b[39;00m data:\n\u001b[1;32m    937\u001b[0m             \u001b[38;5;28;01myield\u001b[39;00m data\n",
      "File \u001b[0;32m~/miniconda3/envs/diplo/lib/python3.9/site-packages/urllib3/response.py:877\u001b[0m, in \u001b[0;36mHTTPResponse.read\u001b[0;34m(self, amt, decode_content, cache_content)\u001b[0m\n\u001b[1;32m    874\u001b[0m     \u001b[38;5;28;01mif\u001b[39;00m \u001b[38;5;28mlen\u001b[39m(\u001b[38;5;28mself\u001b[39m\u001b[38;5;241m.\u001b[39m_decoded_buffer) \u001b[38;5;241m>\u001b[39m\u001b[38;5;241m=\u001b[39m amt:\n\u001b[1;32m    875\u001b[0m         \u001b[38;5;28;01mreturn\u001b[39;00m \u001b[38;5;28mself\u001b[39m\u001b[38;5;241m.\u001b[39m_decoded_buffer\u001b[38;5;241m.\u001b[39mget(amt)\n\u001b[0;32m--> 877\u001b[0m data \u001b[38;5;241m=\u001b[39m \u001b[38;5;28;43mself\u001b[39;49m\u001b[38;5;241;43m.\u001b[39;49m\u001b[43m_raw_read\u001b[49m\u001b[43m(\u001b[49m\u001b[43mamt\u001b[49m\u001b[43m)\u001b[49m\n\u001b[1;32m    879\u001b[0m flush_decoder \u001b[38;5;241m=\u001b[39m amt \u001b[38;5;129;01mis\u001b[39;00m \u001b[38;5;28;01mNone\u001b[39;00m \u001b[38;5;129;01mor\u001b[39;00m (amt \u001b[38;5;241m!=\u001b[39m \u001b[38;5;241m0\u001b[39m \u001b[38;5;129;01mand\u001b[39;00m \u001b[38;5;129;01mnot\u001b[39;00m data)\n\u001b[1;32m    881\u001b[0m \u001b[38;5;28;01mif\u001b[39;00m \u001b[38;5;129;01mnot\u001b[39;00m data \u001b[38;5;129;01mand\u001b[39;00m \u001b[38;5;28mlen\u001b[39m(\u001b[38;5;28mself\u001b[39m\u001b[38;5;241m.\u001b[39m_decoded_buffer) \u001b[38;5;241m==\u001b[39m \u001b[38;5;241m0\u001b[39m:\n",
      "File \u001b[0;32m~/miniconda3/envs/diplo/lib/python3.9/site-packages/urllib3/response.py:812\u001b[0m, in \u001b[0;36mHTTPResponse._raw_read\u001b[0;34m(self, amt)\u001b[0m\n\u001b[1;32m    809\u001b[0m fp_closed \u001b[38;5;241m=\u001b[39m \u001b[38;5;28mgetattr\u001b[39m(\u001b[38;5;28mself\u001b[39m\u001b[38;5;241m.\u001b[39m_fp, \u001b[38;5;124m\"\u001b[39m\u001b[38;5;124mclosed\u001b[39m\u001b[38;5;124m\"\u001b[39m, \u001b[38;5;28;01mFalse\u001b[39;00m)\n\u001b[1;32m    811\u001b[0m \u001b[38;5;28;01mwith\u001b[39;00m \u001b[38;5;28mself\u001b[39m\u001b[38;5;241m.\u001b[39m_error_catcher():\n\u001b[0;32m--> 812\u001b[0m     data \u001b[38;5;241m=\u001b[39m \u001b[38;5;28;43mself\u001b[39;49m\u001b[38;5;241;43m.\u001b[39;49m\u001b[43m_fp_read\u001b[49m\u001b[43m(\u001b[49m\u001b[43mamt\u001b[49m\u001b[43m)\u001b[49m \u001b[38;5;28;01mif\u001b[39;00m \u001b[38;5;129;01mnot\u001b[39;00m fp_closed \u001b[38;5;28;01melse\u001b[39;00m \u001b[38;5;124mb\u001b[39m\u001b[38;5;124m\"\u001b[39m\u001b[38;5;124m\"\u001b[39m\n\u001b[1;32m    813\u001b[0m     \u001b[38;5;28;01mif\u001b[39;00m amt \u001b[38;5;129;01mis\u001b[39;00m \u001b[38;5;129;01mnot\u001b[39;00m \u001b[38;5;28;01mNone\u001b[39;00m \u001b[38;5;129;01mand\u001b[39;00m amt \u001b[38;5;241m!=\u001b[39m \u001b[38;5;241m0\u001b[39m \u001b[38;5;129;01mand\u001b[39;00m \u001b[38;5;129;01mnot\u001b[39;00m data:\n\u001b[1;32m    814\u001b[0m         \u001b[38;5;66;03m# Platform-specific: Buggy versions of Python.\u001b[39;00m\n\u001b[1;32m    815\u001b[0m         \u001b[38;5;66;03m# Close the connection when no data is returned\u001b[39;00m\n\u001b[0;32m   (...)\u001b[0m\n\u001b[1;32m    820\u001b[0m         \u001b[38;5;66;03m# not properly close the connection in all cases. There is\u001b[39;00m\n\u001b[1;32m    821\u001b[0m         \u001b[38;5;66;03m# no harm in redundantly calling close.\u001b[39;00m\n\u001b[1;32m    822\u001b[0m         \u001b[38;5;28mself\u001b[39m\u001b[38;5;241m.\u001b[39m_fp\u001b[38;5;241m.\u001b[39mclose()\n",
      "File \u001b[0;32m~/miniconda3/envs/diplo/lib/python3.9/site-packages/urllib3/response.py:797\u001b[0m, in \u001b[0;36mHTTPResponse._fp_read\u001b[0;34m(self, amt)\u001b[0m\n\u001b[1;32m    794\u001b[0m     \u001b[38;5;28;01mreturn\u001b[39;00m buffer\u001b[38;5;241m.\u001b[39mgetvalue()\n\u001b[1;32m    795\u001b[0m \u001b[38;5;28;01melse\u001b[39;00m:\n\u001b[1;32m    796\u001b[0m     \u001b[38;5;66;03m# StringIO doesn't like amt=None\u001b[39;00m\n\u001b[0;32m--> 797\u001b[0m     \u001b[38;5;28;01mreturn\u001b[39;00m \u001b[38;5;28;43mself\u001b[39;49m\u001b[38;5;241;43m.\u001b[39;49m\u001b[43m_fp\u001b[49m\u001b[38;5;241;43m.\u001b[39;49m\u001b[43mread\u001b[49m\u001b[43m(\u001b[49m\u001b[43mamt\u001b[49m\u001b[43m)\u001b[49m \u001b[38;5;28;01mif\u001b[39;00m amt \u001b[38;5;129;01mis\u001b[39;00m \u001b[38;5;129;01mnot\u001b[39;00m \u001b[38;5;28;01mNone\u001b[39;00m \u001b[38;5;28;01melse\u001b[39;00m \u001b[38;5;28mself\u001b[39m\u001b[38;5;241m.\u001b[39m_fp\u001b[38;5;241m.\u001b[39mread()\n",
      "File \u001b[0;32m~/miniconda3/envs/diplo/lib/python3.9/http/client.py:463\u001b[0m, in \u001b[0;36mHTTPResponse.read\u001b[0;34m(self, amt)\u001b[0m\n\u001b[1;32m    460\u001b[0m \u001b[38;5;28;01mif\u001b[39;00m amt \u001b[38;5;129;01mis\u001b[39;00m \u001b[38;5;129;01mnot\u001b[39;00m \u001b[38;5;28;01mNone\u001b[39;00m:\n\u001b[1;32m    461\u001b[0m     \u001b[38;5;66;03m# Amount is given, implement using readinto\u001b[39;00m\n\u001b[1;32m    462\u001b[0m     b \u001b[38;5;241m=\u001b[39m \u001b[38;5;28mbytearray\u001b[39m(amt)\n\u001b[0;32m--> 463\u001b[0m     n \u001b[38;5;241m=\u001b[39m \u001b[38;5;28;43mself\u001b[39;49m\u001b[38;5;241;43m.\u001b[39;49m\u001b[43mreadinto\u001b[49m\u001b[43m(\u001b[49m\u001b[43mb\u001b[49m\u001b[43m)\u001b[49m\n\u001b[1;32m    464\u001b[0m     \u001b[38;5;28;01mreturn\u001b[39;00m \u001b[38;5;28mmemoryview\u001b[39m(b)[:n]\u001b[38;5;241m.\u001b[39mtobytes()\n\u001b[1;32m    465\u001b[0m \u001b[38;5;28;01melse\u001b[39;00m:\n\u001b[1;32m    466\u001b[0m     \u001b[38;5;66;03m# Amount is not given (unbounded read) so we must check self.length\u001b[39;00m\n\u001b[1;32m    467\u001b[0m     \u001b[38;5;66;03m# and self.chunked\u001b[39;00m\n",
      "File \u001b[0;32m~/miniconda3/envs/diplo/lib/python3.9/http/client.py:507\u001b[0m, in \u001b[0;36mHTTPResponse.readinto\u001b[0;34m(self, b)\u001b[0m\n\u001b[1;32m    502\u001b[0m         b \u001b[38;5;241m=\u001b[39m \u001b[38;5;28mmemoryview\u001b[39m(b)[\u001b[38;5;241m0\u001b[39m:\u001b[38;5;28mself\u001b[39m\u001b[38;5;241m.\u001b[39mlength]\n\u001b[1;32m    504\u001b[0m \u001b[38;5;66;03m# we do not use _safe_read() here because this may be a .will_close\u001b[39;00m\n\u001b[1;32m    505\u001b[0m \u001b[38;5;66;03m# connection, and the user is reading more bytes than will be provided\u001b[39;00m\n\u001b[1;32m    506\u001b[0m \u001b[38;5;66;03m# (for example, reading in 1k chunks)\u001b[39;00m\n\u001b[0;32m--> 507\u001b[0m n \u001b[38;5;241m=\u001b[39m \u001b[38;5;28;43mself\u001b[39;49m\u001b[38;5;241;43m.\u001b[39;49m\u001b[43mfp\u001b[49m\u001b[38;5;241;43m.\u001b[39;49m\u001b[43mreadinto\u001b[49m\u001b[43m(\u001b[49m\u001b[43mb\u001b[49m\u001b[43m)\u001b[49m\n\u001b[1;32m    508\u001b[0m \u001b[38;5;28;01mif\u001b[39;00m \u001b[38;5;129;01mnot\u001b[39;00m n \u001b[38;5;129;01mand\u001b[39;00m b:\n\u001b[1;32m    509\u001b[0m     \u001b[38;5;66;03m# Ideally, we would raise IncompleteRead if the content-length\u001b[39;00m\n\u001b[1;32m    510\u001b[0m     \u001b[38;5;66;03m# wasn't satisfied, but it might break compatibility.\u001b[39;00m\n\u001b[1;32m    511\u001b[0m     \u001b[38;5;28mself\u001b[39m\u001b[38;5;241m.\u001b[39m_close_conn()\n",
      "File \u001b[0;32m~/miniconda3/envs/diplo/lib/python3.9/socket.py:704\u001b[0m, in \u001b[0;36mSocketIO.readinto\u001b[0;34m(self, b)\u001b[0m\n\u001b[1;32m    702\u001b[0m \u001b[38;5;28;01mwhile\u001b[39;00m \u001b[38;5;28;01mTrue\u001b[39;00m:\n\u001b[1;32m    703\u001b[0m     \u001b[38;5;28;01mtry\u001b[39;00m:\n\u001b[0;32m--> 704\u001b[0m         \u001b[38;5;28;01mreturn\u001b[39;00m \u001b[38;5;28;43mself\u001b[39;49m\u001b[38;5;241;43m.\u001b[39;49m\u001b[43m_sock\u001b[49m\u001b[38;5;241;43m.\u001b[39;49m\u001b[43mrecv_into\u001b[49m\u001b[43m(\u001b[49m\u001b[43mb\u001b[49m\u001b[43m)\u001b[49m\n\u001b[1;32m    705\u001b[0m     \u001b[38;5;28;01mexcept\u001b[39;00m timeout:\n\u001b[1;32m    706\u001b[0m         \u001b[38;5;28mself\u001b[39m\u001b[38;5;241m.\u001b[39m_timeout_occurred \u001b[38;5;241m=\u001b[39m \u001b[38;5;28;01mTrue\u001b[39;00m\n",
      "File \u001b[0;32m~/miniconda3/envs/diplo/lib/python3.9/ssl.py:1275\u001b[0m, in \u001b[0;36mSSLSocket.recv_into\u001b[0;34m(self, buffer, nbytes, flags)\u001b[0m\n\u001b[1;32m   1271\u001b[0m     \u001b[38;5;28;01mif\u001b[39;00m flags \u001b[38;5;241m!=\u001b[39m \u001b[38;5;241m0\u001b[39m:\n\u001b[1;32m   1272\u001b[0m         \u001b[38;5;28;01mraise\u001b[39;00m \u001b[38;5;167;01mValueError\u001b[39;00m(\n\u001b[1;32m   1273\u001b[0m           \u001b[38;5;124m\"\u001b[39m\u001b[38;5;124mnon-zero flags not allowed in calls to recv_into() on \u001b[39m\u001b[38;5;132;01m%s\u001b[39;00m\u001b[38;5;124m\"\u001b[39m \u001b[38;5;241m%\u001b[39m\n\u001b[1;32m   1274\u001b[0m           \u001b[38;5;28mself\u001b[39m\u001b[38;5;241m.\u001b[39m\u001b[38;5;18m__class__\u001b[39m)\n\u001b[0;32m-> 1275\u001b[0m     \u001b[38;5;28;01mreturn\u001b[39;00m \u001b[38;5;28;43mself\u001b[39;49m\u001b[38;5;241;43m.\u001b[39;49m\u001b[43mread\u001b[49m\u001b[43m(\u001b[49m\u001b[43mnbytes\u001b[49m\u001b[43m,\u001b[49m\u001b[43m \u001b[49m\u001b[43mbuffer\u001b[49m\u001b[43m)\u001b[49m\n\u001b[1;32m   1276\u001b[0m \u001b[38;5;28;01melse\u001b[39;00m:\n\u001b[1;32m   1277\u001b[0m     \u001b[38;5;28;01mreturn\u001b[39;00m \u001b[38;5;28msuper\u001b[39m()\u001b[38;5;241m.\u001b[39mrecv_into(buffer, nbytes, flags)\n",
      "File \u001b[0;32m~/miniconda3/envs/diplo/lib/python3.9/ssl.py:1133\u001b[0m, in \u001b[0;36mSSLSocket.read\u001b[0;34m(self, len, buffer)\u001b[0m\n\u001b[1;32m   1131\u001b[0m \u001b[38;5;28;01mtry\u001b[39;00m:\n\u001b[1;32m   1132\u001b[0m     \u001b[38;5;28;01mif\u001b[39;00m buffer \u001b[38;5;129;01mis\u001b[39;00m \u001b[38;5;129;01mnot\u001b[39;00m \u001b[38;5;28;01mNone\u001b[39;00m:\n\u001b[0;32m-> 1133\u001b[0m         \u001b[38;5;28;01mreturn\u001b[39;00m \u001b[38;5;28;43mself\u001b[39;49m\u001b[38;5;241;43m.\u001b[39;49m\u001b[43m_sslobj\u001b[49m\u001b[38;5;241;43m.\u001b[39;49m\u001b[43mread\u001b[49m\u001b[43m(\u001b[49m\u001b[38;5;28;43mlen\u001b[39;49m\u001b[43m,\u001b[49m\u001b[43m \u001b[49m\u001b[43mbuffer\u001b[49m\u001b[43m)\u001b[49m\n\u001b[1;32m   1134\u001b[0m     \u001b[38;5;28;01melse\u001b[39;00m:\n\u001b[1;32m   1135\u001b[0m         \u001b[38;5;28;01mreturn\u001b[39;00m \u001b[38;5;28mself\u001b[39m\u001b[38;5;241m.\u001b[39m_sslobj\u001b[38;5;241m.\u001b[39mread(\u001b[38;5;28mlen\u001b[39m)\n",
      "\u001b[0;31mKeyboardInterrupt\u001b[0m: "
     ]
    }
   ],
   "source": [
    "\n",
    "\n",
    "# Directorio de destino para guardar los archivos zip\n",
    "dest_dir = '/home/sistemas/Documents/sexto/Covid-LATAM-Study/new/d/2022'\n",
    "\n",
    "# Descargar los archivos zip\n",
    "for url in urls:\n",
    "    # Obtener el nombre del archivo zip de la URL\n",
    "    file_name = url.split('/')[-1]\n",
    "    # Construir la ruta de destino del archivo zip\n",
    "    file_path = f'{dest_dir}/{file_name}'\n",
    "    \n",
    "    # Descargar el archivo zip\n",
    "    try:\n",
    "        response = requests.get(url)\n",
    "        response.raise_for_status()\n",
    "        # Abre el archivo en modo de escritura binaria y escribe el contenido de la respuesta\n",
    "        with open(file_path, 'wb') as file:\n",
    "            file.write(response.content)\n",
    "    except requests.exceptions.RequestException as e:\n",
    "        print(f'Error al descargar el archivo {file_name}: {e}')\n",
    "        continue\n",
    "\n",
    "\n"
   ]
  },
  {
   "cell_type": "code",
   "execution_count": 18,
   "metadata": {},
   "outputs": [
    {
     "data": {
      "text/plain": [
       "'\\nfor zip in os.listdir(dest_dir):\\n    new_extract_dir = os.path.join(extract_dir, os.path.splitext(zip)[0])\\n    with zipfile.ZipFile(f\\'{dest_dir}/{zip}\\', \\'r\\') as file:\\n        file.extractall(new_extract_dir)\\n\\n        # Verificar si los archivos extraídos existen en el directorio de destino\\n        for file_name in file.namelist():\\n            if not os.path.exists(os.path.join(extract_dir, file_name)):\\n                print(f\"La extracción falló, no se encontró el archivo: {file_name}\")\\n            else:\\n                print(f\"El archivo {file_name} se extrajo correctamente.\")'"
      ]
     },
     "execution_count": 18,
     "metadata": {},
     "output_type": "execute_result"
    }
   ],
   "source": [
    "dest_dir = '/home/sistemas/Documents/sexto/Covid-LATAM-Study/new/d/2023/'\n",
    "extraidos = []\n",
    "dest_dir = '/home/sistemas/Documents/sexto/Covid-LATAM-Study/new/d/2023/'\n",
    "extract_dir = '/home/sistemas/Documents/sexto/Covid-LATAM-Study/new/d/2023csv'\n",
    "\n",
    "\n",
    "for zip in os.listdir(dest_dir):\n",
    "    with zipfile.ZipFile(f'{dest_dir}/{zip}', 'r') as file:\n",
    "        for file_name in file.namelist():\n",
    "            # Extraer el archivo\n",
    "            file.extract(file_name, extract_dir)\n",
    "\n",
    "            # Construir la ruta completa del archivo extraído\n",
    "            extracted_file_path = os.path.join(extract_dir, file_name)\n",
    "\n",
    "            # Construir la ruta completa del nuevo nombre del archivo\n",
    "            new_file_path = os.path.join(extract_dir, f\"{os.path.splitext(zip)[0]}.csv\")\n",
    "\n",
    "            # Renombrar el archivo extraído\n",
    "            os.rename(extracted_file_path, new_file_path)\n",
    "\"\"\"\n",
    "for zip in os.listdir(dest_dir):\n",
    "    new_extract_dir = os.path.join(extract_dir, os.path.splitext(zip)[0])\n",
    "    with zipfile.ZipFile(f'{dest_dir}/{zip}', 'r') as file:\n",
    "        file.extractall(new_extract_dir)\n",
    "\n",
    "        # Verificar si los archivos extraídos existen en el directorio de destino\n",
    "        for file_name in file.namelist():\n",
    "            if not os.path.exists(os.path.join(extract_dir, file_name)):\n",
    "                print(f\"La extracción falló, no se encontró el archivo: {file_name}\")\n",
    "            else:\n",
    "                print(f\"El archivo {file_name} se extrajo correctamente.\")\"\"\"\n",
    "#%cd /home/sistemas/Documents/sexto/Covid-LATAM-Study/new/d/2023csv\n",
    "#%cd /home/sistemas/Documents/sexto/Covid-LATAM-Study/new/d/2023\n",
    "#%mkdir zips\n",
    "#%mv ../*.zip zips"
   ]
  },
  {
   "cell_type": "code",
   "execution_count": 7,
   "metadata": {},
   "outputs": [
    {
     "data": {
      "text/plain": [
       "['datos_abiertos_covid19_03.01.2023.zip',\n",
       " 'datos_abiertos_covid19_10.01.2023.zip',\n",
       " 'datos_abiertos_covid19_05.09.2023.zip',\n",
       " 'datos_abiertos_covid19_06.06.2023.zip',\n",
       " 'datos_abiertos_covid19_28.02.2023.zip',\n",
       " 'datos_abiertos_covid19_11.07.2023.zip',\n",
       " 'datos_abiertos_covid19_22.08.2023.zip',\n",
       " 'datos_abiertos_covid19_14.03.2023.zip',\n",
       " 'datos_abiertos_covid19_18.07.2023.zip',\n",
       " 'datos_abiertos_covid19_11.04.2023.zip',\n",
       " 'datos_abiertos_covid19_07.02.2023.zip',\n",
       " 'datos_abiertos_covid19_26.12.2023.zip',\n",
       " 'datos_abiertos_covid19_25.04.2023.zip',\n",
       " 'datos_abiertos_covid19_04.07.2023.zip',\n",
       " 'datos_abiertos_covid19_31.01.2023.zip',\n",
       " 'datos_abiertos_covid19_17.10.2023.zip',\n",
       " 'datos_abiertos_covid19_07.03.2023.zip',\n",
       " 'datos_abiertos_covid19_02.05.2023.zip',\n",
       " 'datos_abiertos_covid19_24.10.2023.zip',\n",
       " 'datos_abiertos_covid19_26.09.2023.zip',\n",
       " 'datos_abiertos_covid19_23.05.2023.zip',\n",
       " 'datos_abiertos_covid19_25.07.2023.zip',\n",
       " 'datos_abiertos_covid19_28.03.2023.zip',\n",
       " 'datos_abiertos_covid19_21.03.2023.zip',\n",
       " 'datos_abiertos_covid19_19.12.2023.zip',\n",
       " 'datos_abiertos_covid19_05.12.2023.zip',\n",
       " 'datos_abiertos_covid19_17.05.2023.zip',\n",
       " 'datos_abiertos_covid19_28.11.2023.zip',\n",
       " 'datos_abiertos_covid19_01.08.2023.zip',\n",
       " 'datos_abiertos_covid19_17.01.2023.zip',\n",
       " 'datos_abiertos_covid19_18.04.2023.zip',\n",
       " 'datos_abiertos_covid19_24.01.2023.zip',\n",
       " 'datos_abiertos_covid19_04.04.2023.zip',\n",
       " 'csvs',\n",
       " 'datos_abiertos_covid19_14.02.2023.zip',\n",
       " 'datos_abiertos_covid19_30.05.2023.zip',\n",
       " 'datos_abiertos_covid19_13.06.2023.zip',\n",
       " 'datos_abiertos_covid19_21.11.2023.zip',\n",
       " 'datos_abiertos_covid19_20.06.2023.zip',\n",
       " 'datos_abiertos_covid19_27.06.2023.zip',\n",
       " 'datos_abiertos_covid19_31.10.2023.zip',\n",
       " 'datos_abiertos_covid19_21.02.2023.zip',\n",
       " 'datos_abiertos_covid19_03.10.2023.zip',\n",
       " 'datos_abiertos_covid19_08.08.2023.zip',\n",
       " 'datos_abiertos_covid19_07.11.2023.zip',\n",
       " 'datos_abiertos_covid19_12.12.2023.zip',\n",
       " 'datos_abiertos_covid19_14.11.2023.zip',\n",
       " 'datos_abiertos_covid19_15.08.2023.zip',\n",
       " 'datos_abiertos_covid19_10.10.2023.zip',\n",
       " 'datos_abiertos_covid19_29.08.2023.zip',\n",
       " 'cvs',\n",
       " 'datos_abiertos_covid19_19.09.2023.zip',\n",
       " 'datos_abiertos_covid19_12.09.2023.zip',\n",
       " 'datos_abiertos_covid19_09.05.2023.zip']"
      ]
     },
     "execution_count": 7,
     "metadata": {},
     "output_type": "execute_result"
    }
   ],
   "source": [
    "os.listdir(dest_dir)"
   ]
  },
  {
   "cell_type": "code",
   "execution_count": 19,
   "metadata": {},
   "outputs": [
    {
     "name": "stdout",
     "output_type": "stream",
     "text": [
      "53\n"
     ]
    },
    {
     "data": {
      "text/plain": [
       "52"
      ]
     },
     "execution_count": 19,
     "metadata": {},
     "output_type": "execute_result"
    }
   ],
   "source": [
    "print(len(os.listdir('/home/sistemas/Documents/sexto/Covid-LATAM-Study/new/d/2023csv')))\n",
    "len(os.listdir('/home/sistemas/Documents/sexto/Covid-LATAM-Study/new/d/2023'))"
   ]
  },
  {
   "cell_type": "markdown",
   "metadata": {},
   "source": [
    "### meta info recollector"
   ]
  },
  {
   "cell_type": "code",
   "execution_count": 27,
   "metadata": {},
   "outputs": [],
   "source": [
    "# TOTALES\n",
    "total = {}\n",
    "totales_mexico = { f\"edo-{i}\"for i in range(0, 32)}\n",
    "total[\"fecha\"] = []\n",
    "total[\"poblacion\"] = []\n",
    "total[\"Edad0-15\"] = []\n",
    "total[\"Edad16-30\"] = []\n",
    "total[\"Edad31-45\"] = []\n",
    "total[\"Edad46-60\"] = []\n",
    "total[\"Edad61-75\"] = []\n",
    "total[\"Edad76-90\"] = []\n",
    "total[\"Edad91-105\"] = []\n",
    "total[\"hombres\"] = []\n",
    "total[\"mujeres\"] = []\n",
    "#total[\"no_especificado\"] = []\n",
    "total[\"negativos\"] = []\n",
    "total[\"positivos\"] = []\n",
    "total[\"sospechosos\"] = []\n",
    "total[\"defunciones\"] = []\n",
    "#total[\"recuperados\"] = []\n",
    "#total[\"activos\"] = []\n",
    "total[\"hospitalizados\"] = []\n",
    "total[\"ambulatorios\"] = []\n",
    "total[\"hospitalizados_en_uci\"] = []\n",
    "total[\"hospitalizados_no_uci\"] = []\n",
    "#total[\"ENTIDAD_RES\"] = []# 32 estados\n",
    "#total[\"MUNICIPIO_RES\"] = []\n",
    "#total[\"ENTIDAD_UM\"] = []\n",
    "#total[\"ENTIDAD_NAC\"] = []\n",
    "total[\"EMBARAZO\"] = []  \n",
    "total[\"INTUBADO\"] = []\n",
    "total[\"NEUMONIA\"] = []\n",
    "total[\"DIABETES\"] = []\n",
    "total[\"EPOC\"] = []\n",
    "total[\"ASMA\"] = []\n",
    "total[\"INMUSUPR\"] = []\n",
    "total[\"HIPERTENSION\"] = []\n",
    "total[\"OTRA_COM\"] = []\n",
    "total[\"CARDIOVASCULAR\"] = []\n",
    "total[\"OBESIDAD\"] = []\n",
    "total[\"RENAL_CRONICA\"] = []\n",
    "total[\"TABAQUISMO\"] = []\n",
    "total[\"OTRO_CASO\"] = []\n",
    "#total[\"UCI\"] = []\n",
    "\n",
    "\n",
    "\n",
    "\n",
    "\n",
    "#totales_mexico = pd.t_m,columns=  f\"edo-{i}\"for i in range(0, 32)}\n",
    "#confirmados_mexico = { f\"edo-{i}\"for i in range(0, 32)}\n",
    "#negativos_mexico = { f\"edo-{i}\"for i in range(0, 32)}\n",
    "#sospechosos_mexico = { f\"edo-{i}\"for i in range(0, 32)}\n",
    "\n",
    "t_m = []\n",
    "c_m = []\n",
    "n_m = []\n",
    "s_m = []\n",
    "\n",
    "\n",
    "#totales = pd.DataFrame.from_dict(total)\n",
    "#totales_mexico = pd.DataFrame.from_dict(totales_mexico)\n",
    "#print(totales.shape)\n",
    "#totales\n",
    "\n"
   ]
  },
  {
   "cell_type": "code",
   "execution_count": null,
   "metadata": {},
   "outputs": [],
   "source": [
    "\n"
   ]
  },
  {
   "cell_type": "code",
   "execution_count": 4,
   "metadata": {},
   "outputs": [
    {
     "name": "stdout",
     "output_type": "stream",
     "text": [
      "['datos_abiertos_covid19_03.01.2023.csv', 'datos_abiertos_covid19_10.01.2023.csv', 'datos_abiertos_covid19_17.01.2023.csv', 'datos_abiertos_covid19_24.01.2023.csv', 'datos_abiertos_covid19_31.01.2023.csv', 'datos_abiertos_covid19_07.02.2023.csv', 'datos_abiertos_covid19_14.02.2023.csv', 'datos_abiertos_covid19_21.02.2023.csv', 'datos_abiertos_covid19_28.02.2023.csv', 'datos_abiertos_covid19_07.03.2023.csv', 'datos_abiertos_covid19_14.03.2023.csv', 'datos_abiertos_covid19_21.03.2023.csv', 'datos_abiertos_covid19_28.03.2023.csv', 'datos_abiertos_covid19_04.04.2023.csv', 'datos_abiertos_covid19_11.04.2023.csv', 'datos_abiertos_covid19_18.04.2023.csv', 'datos_abiertos_covid19_25.04.2023.csv', 'datos_abiertos_covid19_02.05.2023.csv', 'datos_abiertos_covid19_09.05.2023.csv', 'datos_abiertos_covid19_17.05.2023.csv', 'datos_abiertos_covid19_23.05.2023.csv', 'datos_abiertos_covid19_30.05.2023.csv', 'datos_abiertos_covid19_06.06.2023.csv', 'datos_abiertos_covid19_13.06.2023.csv', 'datos_abiertos_covid19_20.06.2023.csv', 'datos_abiertos_covid19_27.06.2023.csv', 'datos_abiertos_covid19_04.07.2023.csv', 'datos_abiertos_covid19_11.07.2023.csv', 'datos_abiertos_covid19_18.07.2023.csv', 'datos_abiertos_covid19_25.07.2023.csv', 'datos_abiertos_covid19_01.08.2023.csv', 'datos_abiertos_covid19_08.08.2023.csv', 'datos_abiertos_covid19_15.08.2023.csv', 'datos_abiertos_covid19_22.08.2023.csv', 'datos_abiertos_covid19_29.08.2023.csv', 'datos_abiertos_covid19_05.09.2023.csv', 'datos_abiertos_covid19_12.09.2023.csv', 'datos_abiertos_covid19_19.09.2023.csv', 'datos_abiertos_covid19_26.09.2023.csv', 'datos_abiertos_covid19_03.10.2023.csv', 'datos_abiertos_covid19_10.10.2023.csv', 'datos_abiertos_covid19_17.10.2023.csv', 'datos_abiertos_covid19_24.10.2023.csv', 'datos_abiertos_covid19_31.10.2023.csv', 'datos_abiertos_covid19_07.11.2023.csv', 'datos_abiertos_covid19_14.11.2023.csv', 'datos_abiertos_covid19_21.11.2023.csv', 'datos_abiertos_covid19_28.11.2023.csv', 'datos_abiertos_covid19_05.12.2023.csv', 'datos_abiertos_covid19_12.12.2023.csv', 'datos_abiertos_covid19_19.12.2023.csv', 'datos_abiertos_covid19_26.12.2023.csv']\n"
     ]
    }
   ],
   "source": [
    "files = os.listdir('/home/sistemas/Documents/sexto/Covid-LATAM-Study/new/d/2023csv')\n",
    "files.sort(key=lambda x: (x[-11:-9],x[-14:-12]))\n",
    "print(files)\n"
   ]
  },
  {
   "cell_type": "code",
   "execution_count": 16,
   "metadata": {},
   "outputs": [
    {
     "data": {
      "text/plain": [
       "'03.01.2023'"
      ]
     },
     "execution_count": 16,
     "metadata": {},
     "output_type": "execute_result"
    }
   ],
   "source": [
    "files[0][-14:-4]"
   ]
  },
  {
   "cell_type": "code",
   "execution_count": 29,
   "metadata": {},
   "outputs": [
    {
     "data": {
      "text/plain": [
       "'04'"
      ]
     },
     "execution_count": 29,
     "metadata": {},
     "output_type": "execute_result"
    }
   ],
   "source": [
    "for f in files:\n",
    "    data = pd.read_csv(f'/home/sistemas/Documents/sexto/Covid-LATAM-Study/new/d/2023csv/{f}')\n",
    "    data = data.fillna(0)\n",
    "    data = data.replace(\"No especificado\", 0)\n",
    "    data = data.replace(\"No aplica\", 0)\n",
    "    data = data.replace(\"No\", 0"
   ]
  },
  {
   "cell_type": "code",
   "execution_count": 21,
   "metadata": {},
   "outputs": [],
   "source": [
    "#%pwd\n",
    "p= '/home/sistemas/Documents/sexto/Covid-LATAM-Study/new/d/2023csv/'\n",
    "df = pd.read_csv(p+files[0],usecols=['SECTOR', 'ENTIDAD_UM', 'SEXO','TIPO_PACIENTE', 'ENTIDAD_RES',  'INTUBADO', 'NEUMONIA','EDAD',\n",
    "       'EMBARAZO', 'DIABETES', 'EPOC',\n",
    "       'ASMA', 'INMUSUPR', 'HIPERTENSION', 'OTRA_COM', 'FECHA_DEF','CARDIOVASCULAR',\n",
    "       'OBESIDAD', 'RENAL_CRONICA', 'TABAQUISMO', 'OTRO_CASO',\n",
    "       'CLASIFICACION_FINAL','UCI'])\n",
    "#'TIPO_PACIENTE','FECHA_SINTOMAS', 'FECHA_DEF'\n",
    "                 #,usecols=[3,4,5,7,8,9,12,13,14,16,17,18,19,20,21,22,23,24,25,26,27,28,29,30,35])"
   ]
  },
  {
   "cell_type": "code",
   "execution_count": 22,
   "metadata": {},
   "outputs": [
    {
     "data": {
      "text/plain": [
       "UCI\n",
       "97    6134959\n",
       "2      250843\n",
       "1       10278\n",
       "99        196\n",
       "Name: count, dtype: int64"
      ]
     },
     "execution_count": 22,
     "metadata": {},
     "output_type": "execute_result"
    }
   ],
   "source": [
    "df.UCI.value_counts()"
   ]
  },
  {
   "cell_type": "code",
   "execution_count": 28,
   "metadata": {},
   "outputs": [
    {
     "name": "stdout",
     "output_type": "stream",
     "text": [
      "(6396276, 23)\n",
      "(3168132, 23)\n"
     ]
    }
   ],
   "source": [
    "fecha = files[0][-14:-4]\n",
    "#------------------------\n",
    "t_m = []\n",
    "c_m = []\n",
    "n_m = []\n",
    "s_m = []\n",
    "\n",
    "\n",
    "print(df.shape)\n",
    "confi = df[(df.CLASIFICACION_FINAL==1) |(df.CLASIFICACION_FINAL==2) | (df.CLASIFICACION_FINAL==3)]\n",
    "#negativos= df[(df.CLASIFICACION_FINAL==4) |(df.CLASIFICACION_FINAL==7) ]\n",
    "#sospechoso = df[(df.CLASIFICACION_FINAL==6) |(df.CLASIFICACION_FINAL==5)]    \n",
    "print(confi.shape)\n",
    "#print(negativos.shape)\n",
    "#print(sospechoso.shape)\n",
    "\n",
    "\n",
    "df.SECTOR.value_counts()\n",
    "total[\"poblacion\"].append(df.shape[0])\n",
    "total[\"positivos\"].append(confi.shape[0])\n",
    "#total[\"negativos\"].append(negativos.shape[0])\n",
    "#total[\"sospechosos\"].append(sospechoso.shape[0])\n",
    "\n",
    "\n",
    "aux_neg = ((df.CLASIFICACION_FINAL==4) |(df.CLASIFICACION_FINAL==7))\n",
    "aux_sos = ((df.CLASIFICACION_FINAL==6) |(df.CLASIFICACION_FINAL==5))\n",
    "\n",
    "total[\"negativos\"].append(aux_neg.sum() )\n",
    "total[\"sospechosos\"].append(aux_sos.sum() )\n",
    "total[\"fecha\"].append(fecha)\n",
    "bins = [0, 15, 30, 45, 60, 75, 90, 105]\n",
    "labels = [\"Edad0-15\", \"Edad16-30\", \"Edad31-45\", \"Edad46-60\", \"Edad61-75\", \"Edad76-90\", \"Edad91-105\"]\n",
    "age_groups = pd.cut(confi.EDAD, bins=bins, labels=labels, right=False).value_counts()\n",
    "\n",
    "for label in labels:\n",
    "    total[label].append(age_groups.get(label, 0))\n",
    "\n",
    "#total[\"hombres\"].append((confi.SEXO == 2).sum())\n",
    "#total[\"mujeres\"].append((confi.SEXO == 1).sum())\n",
    "total[\"defunciones\"].append((confi.FECHA_DEF != 0).sum())\n",
    "\n",
    "sexo_counts = confi.SEXO.value_counts()\n",
    "total[\"hombres\"].append(sexo_counts.get(2, 0))\n",
    "total[\"mujeres\"].append(sexo_counts.get(1, 0))\n",
    "\n",
    "tipo_paciente_counts = confi.TIPO_PACIENTE.value_counts()\n",
    "total[\"hospitalizados\"].append(tipo_paciente_counts.get(2, 0))\n",
    "total[\"ambulatorios\"].append(tipo_paciente_counts.get(1, 0))\n",
    "\n",
    "uci_counts = confi.UCI.value_counts()\n",
    "total[\"hospitalizados_en_uci\"].append(uci_counts.get(1, 0))\n",
    "total[\"hospitalizados_no_uci\"].append(uci_counts.get(2, 0))\n",
    "\n",
    "\n",
    "\n",
    "total[\"EMBARAZO\"].append((confi.EMBARAZO == 1).sum())\n",
    "total[\"INTUBADO\"].append((confi.INTUBADO == 1).sum())\n",
    "total[\"NEUMONIA\"].append((confi.NEUMONIA == 1).sum())\n",
    "total[\"DIABETES\"].append((confi.DIABETES == 1).sum())\n",
    "total[\"EPOC\"].append((confi.EPOC == 1).sum())\n",
    "total[\"ASMA\"].append((confi.ASMA == 1).sum())\n",
    "total[\"INMUSUPR\"].append((confi.INMUSUPR == 1).sum())\n",
    "total[\"HIPERTENSION\"].append((confi.HIPERTENSION == 1).sum())\n",
    "total[\"OTRA_COM\"].append((confi.OTRA_COM == 1).sum())\n",
    "total[\"CARDIOVASCULAR\"].append((confi.CARDIOVASCULAR == 1).sum())\n",
    "total[\"OBESIDAD\"].append((confi.OBESIDAD == 1).sum())\n",
    "total[\"RENAL_CRONICA\"].append((confi.RENAL_CRONICA == 1).sum())\n",
    "total[\"TABAQUISMO\"].append((confi.TABAQUISMO == 1).sum())\n",
    "total[\"OTRO_CASO\"].append((confi.OTRO_CASO == 1).sum())\n",
    "\n",
    "t_m.append(df.ENTIDAD_RES.value_counts().sort_index().values) # porque sospechoso o no los atienden por eso no considere solo el de confirmados\n",
    "c_m.append(confi.ENTIDAD_RES.value_counts().sort_index().values)\n",
    "n_m.append(df.loc[aux_neg, 'ENTIDAD_RES'].value_counts().sort_index().values)\n",
    "    \n",
    "    #negativos.ENTIDAD_RES.value_counts().sort_index().values)\n",
    "s_m.append(df.loc[aux_sos, 'ENTIDAD_RES'].value_counts().sort_index().values)\n"
   ]
  },
  {
   "cell_type": "code",
   "execution_count": 30,
   "metadata": {},
   "outputs": [
    {
     "data": {
      "text/html": [
       "<div>\n",
       "<style scoped>\n",
       "    .dataframe tbody tr th:only-of-type {\n",
       "        vertical-align: middle;\n",
       "    }\n",
       "\n",
       "    .dataframe tbody tr th {\n",
       "        vertical-align: top;\n",
       "    }\n",
       "\n",
       "    .dataframe thead th {\n",
       "        text-align: right;\n",
       "    }\n",
       "</style>\n",
       "<table border=\"1\" class=\"dataframe\">\n",
       "  <thead>\n",
       "    <tr style=\"text-align: right;\">\n",
       "      <th></th>\n",
       "      <th>fecha</th>\n",
       "      <th>poblacion</th>\n",
       "      <th>Edad0-15</th>\n",
       "      <th>Edad16-30</th>\n",
       "      <th>Edad31-45</th>\n",
       "      <th>Edad46-60</th>\n",
       "      <th>Edad61-75</th>\n",
       "      <th>Edad76-90</th>\n",
       "      <th>Edad91-105</th>\n",
       "      <th>hombres</th>\n",
       "      <th>...</th>\n",
       "      <th>EPOC</th>\n",
       "      <th>ASMA</th>\n",
       "      <th>INMUSUPR</th>\n",
       "      <th>HIPERTENSION</th>\n",
       "      <th>OTRA_COM</th>\n",
       "      <th>CARDIOVASCULAR</th>\n",
       "      <th>OBESIDAD</th>\n",
       "      <th>RENAL_CRONICA</th>\n",
       "      <th>TABAQUISMO</th>\n",
       "      <th>OTRO_CASO</th>\n",
       "    </tr>\n",
       "  </thead>\n",
       "  <tbody>\n",
       "    <tr>\n",
       "      <th>0</th>\n",
       "      <td>03.01.2023</td>\n",
       "      <td>6396276</td>\n",
       "      <td>177929</td>\n",
       "      <td>825617</td>\n",
       "      <td>1087271</td>\n",
       "      <td>753890</td>\n",
       "      <td>248019</td>\n",
       "      <td>67543</td>\n",
       "      <td>7583</td>\n",
       "      <td>1359860</td>\n",
       "      <td>...</td>\n",
       "      <td>13335</td>\n",
       "      <td>55588</td>\n",
       "      <td>13890</td>\n",
       "      <td>278836</td>\n",
       "      <td>38776</td>\n",
       "      <td>22156</td>\n",
       "      <td>207633</td>\n",
       "      <td>19324</td>\n",
       "      <td>129017</td>\n",
       "      <td>832685</td>\n",
       "    </tr>\n",
       "  </tbody>\n",
       "</table>\n",
       "<p>1 rows × 33 columns</p>\n",
       "</div>"
      ],
      "text/plain": [
       "        fecha  poblacion  Edad0-15  Edad16-30  Edad31-45  Edad46-60  \\\n",
       "0  03.01.2023    6396276    177929     825617    1087271     753890   \n",
       "\n",
       "   Edad61-75  Edad76-90  Edad91-105  hombres  ...   EPOC   ASMA  INMUSUPR  \\\n",
       "0     248019      67543        7583  1359860  ...  13335  55588     13890   \n",
       "\n",
       "   HIPERTENSION  OTRA_COM  CARDIOVASCULAR  OBESIDAD  RENAL_CRONICA  \\\n",
       "0        278836     38776           22156    207633          19324   \n",
       "\n",
       "   TABAQUISMO  OTRO_CASO  \n",
       "0      129017     832685  \n",
       "\n",
       "[1 rows x 33 columns]"
      ]
     },
     "execution_count": 30,
     "metadata": {},
     "output_type": "execute_result"
    }
   ],
   "source": [
    "totales = pd.DataFrame.from_dict(total)\n",
    "coll = [f\"edo-{i}\"for i in range(0, 32)]\n",
    "totales_mexico = pd.DataFrame(t_m,columns=  coll)\n",
    "confirmados_mexico = pd.DataFrame(c_m,columns= coll)\n",
    "negativos_mexico = pd.DataFrame(n_m,columns= coll)\n",
    "sospechosos_mexico = pd.DataFrame(s_m,columns= coll)\n",
    "totales"
   ]
  },
  {
   "cell_type": "code",
   "execution_count": 50,
   "metadata": {},
   "outputs": [
    {
     "data": {
      "text/plain": [
       "Index(['SECTOR', 'ENTIDAD_UM', 'SEXO', 'ENTIDAD_RES', 'MUNICIPIO_RES',\n",
       "       'TIPO_PACIENTE', 'FECHA_DEF', 'INTUBADO', 'NEUMONIA', 'NACIONALIDAD',\n",
       "       'EMBARAZO', 'HABLA_LENGUA_INDIG', 'INDIGENA', 'DIABETES', 'EPOC',\n",
       "       'ASMA', 'INMUSUPR', 'HIPERTENSION', 'OTRA_COM', 'CARDIOVASCULAR',\n",
       "       'OBESIDAD', 'RENAL_CRONICA', 'TABAQUISMO', 'OTRO_CASO',\n",
       "       'CLASIFICACION_FINAL'],\n",
       "      dtype='object')"
      ]
     },
     "execution_count": 50,
     "metadata": {},
     "output_type": "execute_result"
    }
   ],
   "source": [
    "df.columns"
   ]
  },
  {
   "cell_type": "code",
   "execution_count": 48,
   "metadata": {},
   "outputs": [
    {
     "data": {
      "text/plain": [
       "array([ 1,  2,  3,  4,  5,  6,  7,  8,  9, 10, 11, 12, 13, 14, 15, 16, 17,\n",
       "       18, 19, 20, 21, 22, 23, 24, 25, 26, 27, 28, 29, 30, 31, 32])"
      ]
     },
     "execution_count": 48,
     "metadata": {},
     "output_type": "execute_result"
    }
   ],
   "source": [
    "np.sort(df.iloc[:,1].unique())"
   ]
  },
  {
   "cell_type": "code",
   "execution_count": 28,
   "metadata": {},
   "outputs": [
    {
     "data": {
      "text/plain": [
       "ENTIDAD_RES\n",
       "1       91139\n",
       "2      140747\n",
       "3      120719\n",
       "4       38498\n",
       "5      158691\n",
       "6       56379\n",
       "7      107630\n",
       "8      123463\n",
       "9     1896084\n",
       "10      58257\n",
       "11     290889\n",
       "12      79471\n",
       "13     100804\n",
       "14     188951\n",
       "15     573013\n",
       "16      71311\n",
       "17     107452\n",
       "18      63429\n",
       "19     311625\n",
       "20     113574\n",
       "21     170855\n",
       "22     134318\n",
       "23      72476\n",
       "24     302023\n",
       "25     229943\n",
       "26     127014\n",
       "27     148762\n",
       "28     140263\n",
       "29      51034\n",
       "30     146926\n",
       "31     107821\n",
       "32      72715\n",
       "Name: count, dtype: int64"
      ]
     },
     "execution_count": 28,
     "metadata": {},
     "output_type": "execute_result"
    }
   ],
   "source": [
    "una = df.ENTIDAD_RES.value_counts().sort_index();una"
   ]
  },
  {
   "cell_type": "code",
   "execution_count": 12,
   "metadata": {},
   "outputs": [
    {
     "name": "stdout",
     "output_type": "stream",
     "text": [
      "TIPO_PACIENTE\n",
      "1    6134959\n",
      "2     261317\n",
      "Name: count, dtype: int64\n",
      "261317\n"
     ]
    }
   ],
   "source": [
    "a= df.TIPO_PACIENTE.value_counts()\n",
    "print(a)\n",
    "print(a.get(2))"
   ]
  },
  {
   "cell_type": "code",
   "execution_count": 29,
   "metadata": {},
   "outputs": [
    {
     "data": {
      "text/plain": [
       "{'fecha': ['03.01.2023'],\n",
       " 'poblacion': [6396276],\n",
       " 'Edad0-15': [177929],\n",
       " 'Edad16-30': [825617],\n",
       " 'Edad31-45': [1087271],\n",
       " 'Edad46-60': [753890],\n",
       " 'Edad61-75': [248019],\n",
       " 'Edad76-90': [67543],\n",
       " 'Edad91-105': [7583],\n",
       " 'hombres': [1359860],\n",
       " 'mujeres': [1808272],\n",
       " 'negativos': [3018219],\n",
       " 'positivos': [3168132],\n",
       " 'sospechosos': [209925],\n",
       " 'defunciones': [3168132],\n",
       " 'hospitalizados': [90838],\n",
       " 'ambulatorios': [3077294],\n",
       " 'hospitalizados_en_uci': [4802],\n",
       " 'hospitalizados_no_uci': [85934],\n",
       " 'EMBARAZO': [32072],\n",
       " 'INTUBADO': [5219],\n",
       " 'NEUMONIA': [57837],\n",
       " 'DIABETES': [188289],\n",
       " 'EPOC': [13335],\n",
       " 'ASMA': [55588],\n",
       " 'INMUSUPR': [13890],\n",
       " 'HIPERTENSION': [278836],\n",
       " 'OTRA_COM': [38776],\n",
       " 'CARDIOVASCULAR': [22156],\n",
       " 'OBESIDAD': [207633],\n",
       " 'RENAL_CRONICA': [19324],\n",
       " 'TABAQUISMO': [129017],\n",
       " 'OTRO_CASO': [832685]}"
      ]
     },
     "execution_count": 29,
     "metadata": {},
     "output_type": "execute_result"
    }
   ],
   "source": [
    "total"
   ]
  },
  {
   "cell_type": "code",
   "execution_count": 26,
   "metadata": {},
   "outputs": [
    {
     "data": {
      "text/plain": [
       "SEXO\n",
       "1    3624273\n",
       "2    2772003\n",
       "Name: count, dtype: int64"
      ]
     },
     "execution_count": 26,
     "metadata": {},
     "output_type": "execute_result"
    }
   ],
   "source": [
    "df.SEXO.value_counts()"
   ]
  }
 ],
 "metadata": {
  "kernelspec": {
   "display_name": "diplo",
   "language": "python",
   "name": "python3"
  },
  "language_info": {
   "codemirror_mode": {
    "name": "ipython",
    "version": 3
   },
   "file_extension": ".py",
   "mimetype": "text/x-python",
   "name": "python",
   "nbconvert_exporter": "python",
   "pygments_lexer": "ipython3",
   "version": "3.9.18"
  }
 },
 "nbformat": 4,
 "nbformat_minor": 2
}
