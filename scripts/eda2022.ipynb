{
 "cells": [
  {
   "cell_type": "code",
   "execution_count": 1,
   "metadata": {},
   "outputs": [],
   "source": [
    "import pandas as pd\n",
    "import numpy as np\n",
    "import matplotlib.pyplot as plt\n",
    "import requests\n",
    "import os\n",
    "import zipfile"
   ]
  },
  {
   "cell_type": "code",
   "execution_count": 36,
   "metadata": {},
   "outputs": [],
   "source": [
    "p = \"/home/sistemas/Documents/sexto/Covid-LATAM-Study/new/d2021/COVID19MEXICO2021.csv\"\n",
    "df= pd.read_csv(p,usecols=[\"SEXO\",\"EDAD\",\"TIPO_PACIENTE\"])"
   ]
  },
  {
   "cell_type": "code",
   "execution_count": null,
   "metadata": {},
   "outputs": [],
   "source": [
    "df.TIPO_PACIENTE.replace({1:\"AMBULATORIO\",2:\"HOSPITALIZADO\",99:\"NO ESPECIFICADO\"},inplace=True)"
   ]
  },
  {
   "cell_type": "code",
   "execution_count": 31,
   "metadata": {},
   "outputs": [],
   "source": [
    "bins = [0, 15, 30, 45, 60, 75, 90, 105]\n",
    "labels = [\"Edad0-15\", \"Edad16-30\", \"Edad31-45\", \"Edad46-60\", \"Edad61-75\", \"Edad76-90\", \"Edad91-105\"]\n",
    "age_groups = pd.cut(df.EDAD, bins=bins, labels=labels, right=False)#.value_counts()\n",
    "for label in labels:\n",
    "    df[label] = age_groups.get(label, 0)\n"
   ]
  },
  {
   "cell_type": "code",
   "execution_count": 34,
   "metadata": {},
   "outputs": [
    {
     "data": {
      "text/plain": [
       "TIPO_PACIENTE\n",
       "2    566176\n",
       "Name: count, dtype: int64"
      ]
     },
     "execution_count": 34,
     "metadata": {},
     "output_type": "execute_result"
    }
   ],
   "source": [
    "#df_new = df.drop(columns=['EDAD'])\n",
    "df_n2 = df_new[df_new[\"TIPO_PACIENTE\"] == 2]\n",
    "df_n2.TIPO_PACIENTE.value_counts()"
   ]
  },
  {
   "cell_type": "code",
   "execution_count": 23,
   "metadata": {},
   "outputs": [
    {
     "data": {
      "text/html": [
       "<div>\n",
       "<style scoped>\n",
       "    .dataframe tbody tr th:only-of-type {\n",
       "        vertical-align: middle;\n",
       "    }\n",
       "\n",
       "    .dataframe tbody tr th {\n",
       "        vertical-align: top;\n",
       "    }\n",
       "\n",
       "    .dataframe thead th {\n",
       "        text-align: right;\n",
       "    }\n",
       "</style>\n",
       "<table border=\"1\" class=\"dataframe\">\n",
       "  <thead>\n",
       "    <tr style=\"text-align: right;\">\n",
       "      <th></th>\n",
       "      <th>SEXO</th>\n",
       "      <th>TIPO_PACIENTE</th>\n",
       "      <th>Edad0-15</th>\n",
       "      <th>Edad16-30</th>\n",
       "      <th>Edad31-45</th>\n",
       "      <th>Edad46-60</th>\n",
       "      <th>Edad61-75</th>\n",
       "      <th>Edad76-90</th>\n",
       "      <th>Edad91-105</th>\n",
       "    </tr>\n",
       "  </thead>\n",
       "  <tbody>\n",
       "    <tr>\n",
       "      <th>0</th>\n",
       "      <td>2</td>\n",
       "      <td>1</td>\n",
       "      <td>564479</td>\n",
       "      <td>1729583</td>\n",
       "      <td>2046857</td>\n",
       "      <td>1411213</td>\n",
       "      <td>529767</td>\n",
       "      <td>152612</td>\n",
       "      <td>16697</td>\n",
       "    </tr>\n",
       "    <tr>\n",
       "      <th>1</th>\n",
       "      <td>2</td>\n",
       "      <td>2</td>\n",
       "      <td>564479</td>\n",
       "      <td>1729583</td>\n",
       "      <td>2046857</td>\n",
       "      <td>1411213</td>\n",
       "      <td>529767</td>\n",
       "      <td>152612</td>\n",
       "      <td>16697</td>\n",
       "    </tr>\n",
       "    <tr>\n",
       "      <th>2</th>\n",
       "      <td>1</td>\n",
       "      <td>1</td>\n",
       "      <td>564479</td>\n",
       "      <td>1729583</td>\n",
       "      <td>2046857</td>\n",
       "      <td>1411213</td>\n",
       "      <td>529767</td>\n",
       "      <td>152612</td>\n",
       "      <td>16697</td>\n",
       "    </tr>\n",
       "    <tr>\n",
       "      <th>3</th>\n",
       "      <td>2</td>\n",
       "      <td>1</td>\n",
       "      <td>564479</td>\n",
       "      <td>1729583</td>\n",
       "      <td>2046857</td>\n",
       "      <td>1411213</td>\n",
       "      <td>529767</td>\n",
       "      <td>152612</td>\n",
       "      <td>16697</td>\n",
       "    </tr>\n",
       "    <tr>\n",
       "      <th>4</th>\n",
       "      <td>1</td>\n",
       "      <td>1</td>\n",
       "      <td>564479</td>\n",
       "      <td>1729583</td>\n",
       "      <td>2046857</td>\n",
       "      <td>1411213</td>\n",
       "      <td>529767</td>\n",
       "      <td>152612</td>\n",
       "      <td>16697</td>\n",
       "    </tr>\n",
       "    <tr>\n",
       "      <th>...</th>\n",
       "      <td>...</td>\n",
       "      <td>...</td>\n",
       "      <td>...</td>\n",
       "      <td>...</td>\n",
       "      <td>...</td>\n",
       "      <td>...</td>\n",
       "      <td>...</td>\n",
       "      <td>...</td>\n",
       "      <td>...</td>\n",
       "    </tr>\n",
       "    <tr>\n",
       "      <th>6451939</th>\n",
       "      <td>1</td>\n",
       "      <td>2</td>\n",
       "      <td>564479</td>\n",
       "      <td>1729583</td>\n",
       "      <td>2046857</td>\n",
       "      <td>1411213</td>\n",
       "      <td>529767</td>\n",
       "      <td>152612</td>\n",
       "      <td>16697</td>\n",
       "    </tr>\n",
       "    <tr>\n",
       "      <th>6451940</th>\n",
       "      <td>2</td>\n",
       "      <td>1</td>\n",
       "      <td>564479</td>\n",
       "      <td>1729583</td>\n",
       "      <td>2046857</td>\n",
       "      <td>1411213</td>\n",
       "      <td>529767</td>\n",
       "      <td>152612</td>\n",
       "      <td>16697</td>\n",
       "    </tr>\n",
       "    <tr>\n",
       "      <th>6451941</th>\n",
       "      <td>1</td>\n",
       "      <td>1</td>\n",
       "      <td>564479</td>\n",
       "      <td>1729583</td>\n",
       "      <td>2046857</td>\n",
       "      <td>1411213</td>\n",
       "      <td>529767</td>\n",
       "      <td>152612</td>\n",
       "      <td>16697</td>\n",
       "    </tr>\n",
       "    <tr>\n",
       "      <th>6451942</th>\n",
       "      <td>1</td>\n",
       "      <td>1</td>\n",
       "      <td>564479</td>\n",
       "      <td>1729583</td>\n",
       "      <td>2046857</td>\n",
       "      <td>1411213</td>\n",
       "      <td>529767</td>\n",
       "      <td>152612</td>\n",
       "      <td>16697</td>\n",
       "    </tr>\n",
       "    <tr>\n",
       "      <th>6451943</th>\n",
       "      <td>2</td>\n",
       "      <td>1</td>\n",
       "      <td>564479</td>\n",
       "      <td>1729583</td>\n",
       "      <td>2046857</td>\n",
       "      <td>1411213</td>\n",
       "      <td>529767</td>\n",
       "      <td>152612</td>\n",
       "      <td>16697</td>\n",
       "    </tr>\n",
       "  </tbody>\n",
       "</table>\n",
       "<p>6451944 rows × 9 columns</p>\n",
       "</div>"
      ],
      "text/plain": [
       "         SEXO  TIPO_PACIENTE  Edad0-15  Edad16-30  Edad31-45  Edad46-60  \\\n",
       "0           2              1    564479    1729583    2046857    1411213   \n",
       "1           2              2    564479    1729583    2046857    1411213   \n",
       "2           1              1    564479    1729583    2046857    1411213   \n",
       "3           2              1    564479    1729583    2046857    1411213   \n",
       "4           1              1    564479    1729583    2046857    1411213   \n",
       "...       ...            ...       ...        ...        ...        ...   \n",
       "6451939     1              2    564479    1729583    2046857    1411213   \n",
       "6451940     2              1    564479    1729583    2046857    1411213   \n",
       "6451941     1              1    564479    1729583    2046857    1411213   \n",
       "6451942     1              1    564479    1729583    2046857    1411213   \n",
       "6451943     2              1    564479    1729583    2046857    1411213   \n",
       "\n",
       "         Edad61-75  Edad76-90  Edad91-105  \n",
       "0           529767     152612       16697  \n",
       "1           529767     152612       16697  \n",
       "2           529767     152612       16697  \n",
       "3           529767     152612       16697  \n",
       "4           529767     152612       16697  \n",
       "...            ...        ...         ...  \n",
       "6451939     529767     152612       16697  \n",
       "6451940     529767     152612       16697  \n",
       "6451941     529767     152612       16697  \n",
       "6451942     529767     152612       16697  \n",
       "6451943     529767     152612       16697  \n",
       "\n",
       "[6451944 rows x 9 columns]"
      ]
     },
     "execution_count": 23,
     "metadata": {},
     "output_type": "execute_result"
    }
   ],
   "source": [
    "df_new"
   ]
  },
  {
   "cell_type": "code",
   "execution_count": 35,
   "metadata": {},
   "outputs": [
    {
     "data": {
      "image/png": "[encoded data removed]",
      "text/plain": [
       "<Figure size 640x480 with 1 Axes>"
      ]
     },
     "metadata": {},
     "output_type": "display_data"
    }
   ],
   "source": [
    "df_n2.groupby([\"SEXO\", \"TIPO_PACIENTE\"]).count().plot(kind=\"bar\", stacked=True)\n",
    "plt.title(\"Pacientes positivos  2021 Mx\")\n",
    "plt.ylabel(\"Número de pacientes\")\n",
    "plt.savefig(\"Papo2021Mx.png\")"
   ]
  },
  {
   "cell_type": "code",
   "execution_count": 10,
   "metadata": {},
   "outputs": [
    {
     "data": {
      "text/plain": [
       "Index(['FECHA_ACTUALIZACION', 'ID_REGISTRO', 'ORIGEN', 'SECTOR', 'ENTIDAD_UM',\n",
       "       'SEXO', 'ENTIDAD_NAC', 'ENTIDAD_RES', 'MUNICIPIO_RES', 'TIPO_PACIENTE',\n",
       "       'FECHA_INGRESO', 'FECHA_SINTOMAS', 'FECHA_DEF', 'INTUBADO', 'NEUMONIA',\n",
       "       'EDAD', 'NACIONALIDAD', 'EMBARAZO', 'HABLA_LENGUA_INDIG', 'INDIGENA',\n",
       "       'DIABETES', 'EPOC', 'ASMA', 'INMUSUPR', 'HIPERTENSION', 'OTRA_COM',\n",
       "       'CARDIOVASCULAR', 'OBESIDAD', 'RENAL_CRONICA', 'TABAQUISMO',\n",
       "       'OTRO_CASO', 'TOMA_MUESTRA_LAB', 'RESULTADO_LAB',\n",
       "       'TOMA_MUESTRA_ANTIGENO', 'RESULTADO_ANTIGENO', 'CLASIFICACION_FINAL',\n",
       "       'MIGRANTE', 'PAIS_NACIONALIDAD', 'PAIS_ORIGEN', 'UCI'],\n",
       "      dtype='object')"
      ]
     },
     "execution_count": 10,
     "metadata": {},
     "output_type": "execute_result"
    }
   ],
   "source": [
    "df.columns"
   ]
  },
  {
   "cell_type": "code",
   "execution_count": null,
   "metadata": {},
   "outputs": [],
   "source": []
  },
  {
   "cell_type": "code",
   "execution_count": null,
   "metadata": {},
   "outputs": [],
   "source": []
  },
  {
   "cell_type": "code",
   "execution_count": null,
   "metadata": {},
   "outputs": [],
   "source": []
  }
 ],
 "metadata": {
  "kernelspec": {
   "display_name": "diplo",
   "language": "python",
   "name": "python3"
  },
  "language_info": {
   "codemirror_mode": {
    "name": "ipython",
    "version": 3
   },
   "file_extension": ".py",
   "mimetype": "text/x-python",
   "name": "python",
   "nbconvert_exporter": "python",
   "pygments_lexer": "ipython3",
   "version": "3.9.18"
  }
 },
 "nbformat": 4,
 "nbformat_minor": 2
}
