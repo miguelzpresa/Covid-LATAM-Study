{
 "cells": [
  {
   "cell_type": "code",
   "execution_count": 1,
   "metadata": {},
   "outputs": [],
   "source": [
    "%load_ext cudf.pandas\n",
    "import pandas as pd\n",
    "import numpy as np\n",
    "import matplotlib.pyplot as plt\n",
    "import requests\n",
    "import os\n",
    "import zipfile"
   ]
  },
  {
   "cell_type": "code",
   "execution_count": 2,
   "metadata": {},
   "outputs": [
    {
     "data": {
      "text/plain": [
       "<module 'pandas' (ModuleAccelerator(fast=cudf, slow=pandas))>"
      ]
     },
     "execution_count": 2,
     "metadata": {},
     "output_type": "execute_result"
    }
   ],
   "source": [
    "pd"
   ]
  },
  {
   "cell_type": "markdown",
   "metadata": {},
   "source": [
    "### variables"
   ]
  },
  {
   "cell_type": "code",
   "execution_count": 11,
   "metadata": {},
   "outputs": [],
   "source": [
    "total = {}\n",
    "totales_mexico = { f\"edo-{i}\"for i in range(0, 32)}\n",
    "total[\"fecha\"] = []\n",
    "total[\"poblacion\"] = []\n",
    "total[\"Edad0-15\"] = []\n",
    "total[\"Edad16-30\"] = []\n",
    "total[\"Edad31-45\"] = []\n",
    "total[\"Edad46-60\"] = []\n",
    "total[\"Edad61-75\"] = []\n",
    "total[\"Edad76-90\"] = []\n",
    "total[\"Edad91-105\"] = []\n",
    "total[\"hombres\"] = []\n",
    "total[\"mujeres\"] = []\n",
    "#total[\"no_especificado\"] = []\n",
    "total[\"negativos\"] = []\n",
    "total[\"positivos\"] = []\n",
    "total[\"sospechosos\"] = []\n",
    "total[\"defunciones\"] = []\n",
    "#total[\"recuperados\"] = []\n",
    "#total[\"activos\"] = []\n",
    "total[\"hospitalizados\"] = []\n",
    "total[\"ambulatorios\"] = []\n",
    "total[\"hospitalizados_en_uci\"] = []\n",
    "total[\"hospitalizados_no_uci\"] = []\n",
    "#total[\"ENTIDAD_RES\"] = []# 32 estados\n",
    "#total[\"MUNICIPIO_RES\"] = []\n",
    "#total[\"ENTIDAD_UM\"] = []\n",
    "#total[\"ENTIDAD_NAC\"] = []\n",
    "total[\"EMBARAZO\"] = []  \n",
    "total[\"INTUBADO\"] = []\n",
    "total[\"NEUMONIA\"] = []\n",
    "total[\"DIABETES\"] = []\n",
    "total[\"EPOC\"] = []\n",
    "total[\"ASMA\"] = []\n",
    "total[\"INMUSUPR\"] = []\n",
    "total[\"HIPERTENSION\"] = []\n",
    "total[\"OTRA_COM\"] = []\n",
    "total[\"CARDIOVASCULAR\"] = []\n",
    "total[\"OBESIDAD\"] = []\n",
    "total[\"RENAL_CRONICA\"] = []\n",
    "total[\"TABAQUISMO\"] = []\n",
    "total[\"OTRO_CASO\"] = []\n",
    "\n",
    "t_m = []\n",
    "c_m = []\n",
    "n_m = []\n",
    "s_m = []\n"
   ]
  },
  {
   "cell_type": "markdown",
   "metadata": {},
   "source": [
    "### f"
   ]
  },
  {
   "cell_type": "code",
   "execution_count": 12,
   "metadata": {},
   "outputs": [],
   "source": [
    "def poblador(df):\n",
    "    total[\"fecha\"].append(fecha)\n",
    "    confi = df[(df.CLASIFICACION_FINAL==1) |(df.CLASIFICACION_FINAL==2) | (df.CLASIFICACION_FINAL==3)]\n",
    "    total[\"poblacion\"].append(df.shape[0])\n",
    "    total[\"positivos\"].append(confi.shape[0])\n",
    "    aux_neg = ((df.CLASIFICACION_FINAL==4) |(df.CLASIFICACION_FINAL==7))\n",
    "    aux_sos = ((df.CLASIFICACION_FINAL==6) |(df.CLASIFICACION_FINAL==5))\n",
    "\n",
    "    total[\"negativos\"].append(aux_neg.sum() )\n",
    "    total[\"sospechosos\"].append(aux_sos.sum() )\n",
    "    \n",
    "    bins = [0, 15, 30, 45, 60, 75, 90, 105]\n",
    "    labels = [\"Edad0-15\", \"Edad16-30\", \"Edad31-45\", \"Edad46-60\", \"Edad61-75\", \"Edad76-90\", \"Edad91-105\"]\n",
    "    age_groups = pd.cut(confi.EDAD, bins=bins, labels=labels, right=False).value_counts()\n",
    "\n",
    "    for label in labels:\n",
    "        total[label].append(age_groups.get(label, 0))\n",
    "    total[\"defunciones\"].append((confi.FECHA_DEF != 0).sum())\n",
    "\n",
    "    sexo_counts = confi.SEXO.value_counts()\n",
    "    total[\"hombres\"].append(sexo_counts.get(2, 0))\n",
    "    total[\"mujeres\"].append(sexo_counts.get(1, 0))\n",
    "\n",
    "    tipo_paciente_counts = confi.TIPO_PACIENTE.value_counts()\n",
    "    total[\"hospitalizados\"].append(tipo_paciente_counts.get(2, 0))\n",
    "    total[\"ambulatorios\"].append(tipo_paciente_counts.get(1, 0))\n",
    "\n",
    "    uci_counts = confi.UCI.value_counts()\n",
    "    total[\"hospitalizados_en_uci\"].append(uci_counts.get(1, 0))\n",
    "    total[\"hospitalizados_no_uci\"].append(uci_counts.get(2, 0))\n",
    "\n",
    "\n",
    "\n",
    "    total[\"EMBARAZO\"].append((confi.EMBARAZO == 1).sum())\n",
    "    total[\"INTUBADO\"].append((confi.INTUBADO == 1).sum())\n",
    "    total[\"NEUMONIA\"].append((confi.NEUMONIA == 1).sum())\n",
    "    total[\"DIABETES\"].append((confi.DIABETES == 1).sum())\n",
    "    total[\"EPOC\"].append((confi.EPOC == 1).sum())\n",
    "    total[\"ASMA\"].append((confi.ASMA == 1).sum())\n",
    "    total[\"INMUSUPR\"].append((confi.INMUSUPR == 1).sum())\n",
    "    total[\"HIPERTENSION\"].append((confi.HIPERTENSION == 1).sum())\n",
    "    total[\"OTRA_COM\"].append((confi.OTRA_COM == 1).sum())\n",
    "    total[\"CARDIOVASCULAR\"].append((confi.CARDIOVASCULAR == 1).sum())\n",
    "    total[\"OBESIDAD\"].append((confi.OBESIDAD == 1).sum())\n",
    "    total[\"RENAL_CRONICA\"].append((confi.RENAL_CRONICA == 1).sum())\n",
    "    total[\"TABAQUISMO\"].append((confi.TABAQUISMO == 1).sum())\n",
    "    total[\"OTRO_CASO\"].append((confi.OTRO_CASO == 1).sum())\n",
    "\n",
    "    t_m.append(df.ENTIDAD_RES.value_counts().sort_index().values) # porque sospechoso o no los atienden por eso no considere solo el de confirmados\n",
    "    c_m.append(confi.ENTIDAD_RES.value_counts().sort_index().values)\n",
    "    n_m.append(df.loc[aux_neg, 'ENTIDAD_RES'].value_counts().sort_index().values)\n",
    "        \n",
    "    #negativos.ENTIDAD_RES.value_counts().sort_index().values)\n",
    "    s_m.append(df.loc[aux_sos, 'ENTIDAD_RES'].value_counts().sort_index().values)"
   ]
  },
  {
   "cell_type": "markdown",
   "metadata": {},
   "source": [
    "### iterador"
   ]
  },
  {
   "cell_type": "code",
   "execution_count": 13,
   "metadata": {},
   "outputs": [
    {
     "data": {
      "text/html": [
       "<div>\n",
       "<style scoped>\n",
       "    .dataframe tbody tr th:only-of-type {\n",
       "        vertical-align: middle;\n",
       "    }\n",
       "\n",
       "    .dataframe tbody tr th {\n",
       "        vertical-align: top;\n",
       "    }\n",
       "\n",
       "    .dataframe thead th {\n",
       "        text-align: right;\n",
       "    }\n",
       "</style>\n",
       "<table border=\"1\" class=\"dataframe\">\n",
       "  <thead>\n",
       "    <tr style=\"text-align: right;\">\n",
       "      <th></th>\n",
       "      <th>fecha</th>\n",
       "      <th>poblacion</th>\n",
       "      <th>Edad0-15</th>\n",
       "      <th>Edad16-30</th>\n",
       "      <th>Edad31-45</th>\n",
       "      <th>Edad46-60</th>\n",
       "      <th>Edad61-75</th>\n",
       "      <th>Edad76-90</th>\n",
       "      <th>Edad91-105</th>\n",
       "      <th>hombres</th>\n",
       "      <th>...</th>\n",
       "      <th>EPOC</th>\n",
       "      <th>ASMA</th>\n",
       "      <th>INMUSUPR</th>\n",
       "      <th>HIPERTENSION</th>\n",
       "      <th>OTRA_COM</th>\n",
       "      <th>CARDIOVASCULAR</th>\n",
       "      <th>OBESIDAD</th>\n",
       "      <th>RENAL_CRONICA</th>\n",
       "      <th>TABAQUISMO</th>\n",
       "      <th>OTRO_CASO</th>\n",
       "    </tr>\n",
       "  </thead>\n",
       "  <tbody>\n",
       "    <tr>\n",
       "      <th>0</th>\n",
       "      <td>MEXICO2021</td>\n",
       "      <td>8830345</td>\n",
       "      <td>126870</td>\n",
       "      <td>711526</td>\n",
       "      <td>797642</td>\n",
       "      <td>552680</td>\n",
       "      <td>249875</td>\n",
       "      <td>80514</td>\n",
       "      <td>7335</td>\n",
       "      <td>1237785</td>\n",
       "      <td>...</td>\n",
       "      <td>16820</td>\n",
       "      <td>43386</td>\n",
       "      <td>12542</td>\n",
       "      <td>298535</td>\n",
       "      <td>35780</td>\n",
       "      <td>23023</td>\n",
       "      <td>245536</td>\n",
       "      <td>23504</td>\n",
       "      <td>150832</td>\n",
       "      <td>876465</td>\n",
       "    </tr>\n",
       "  </tbody>\n",
       "</table>\n",
       "<p>1 rows × 33 columns</p>\n",
       "</div>"
      ],
      "text/plain": [
       "        fecha  poblacion  Edad0-15  Edad16-30  Edad31-45  Edad46-60  \\\n",
       "0  MEXICO2021    8830345    126870     711526     797642     552680   \n",
       "\n",
       "   Edad61-75  Edad76-90  Edad91-105  hombres  ...   EPOC   ASMA  INMUSUPR  \\\n",
       "0     249875      80514        7335  1237785  ...  16820  43386     12542   \n",
       "\n",
       "   HIPERTENSION  OTRA_COM  CARDIOVASCULAR  OBESIDAD  RENAL_CRONICA  \\\n",
       "0        298535     35780           23023    245536          23504   \n",
       "\n",
       "   TABAQUISMO  OTRO_CASO  \n",
       "0      150832     876465  \n",
       "\n",
       "[1 rows x 33 columns]"
      ]
     },
     "execution_count": 13,
     "metadata": {},
     "output_type": "execute_result"
    }
   ],
   "source": [
    "files = os.listdir('/home/sistemas/Documents/sexto/Covid-LATAM-Study/new/d2021')\n",
    "files.sort(key=lambda x: (x[-11:-9],x[-14:-12]))\n",
    "colls= ['SECTOR', 'ENTIDAD_UM', 'SEXO','TIPO_PACIENTE', 'ENTIDAD_RES',  'INTUBADO', 'NEUMONIA','EDAD',\n",
    "       'EMBARAZO', 'DIABETES', 'EPOC',\n",
    "       'ASMA', 'INMUSUPR', 'HIPERTENSION', 'OTRA_COM', 'FECHA_DEF','CARDIOVASCULAR',\n",
    "       'OBESIDAD', 'RENAL_CRONICA', 'TABAQUISMO', 'OTRO_CASO',\n",
    "       'CLASIFICACION_FINAL','UCI']\n",
    "#print(files)\n",
    "for idx,f in enumerate(files):\n",
    "    pathh = f'/home/sistemas/Documents/sexto/Covid-LATAM-Study/new/d2021/{f}'\n",
    "\n",
    "    data = pd.read_csv(pathh,usecols=colls)\n",
    "    fecha = files[idx][-14:-4]\n",
    "    poblador(data)\n",
    "totales = pd.DataFrame.from_dict(total)\n",
    "coll = [f\"edo-{i}\"for i in range(0, 32)]\n",
    "totales_mexico = pd.DataFrame(t_m,columns=  coll)\n",
    "confirmados_mexico = pd.DataFrame(c_m,columns= coll)\n",
    "negativos_mexico = pd.DataFrame(n_m,columns= coll)\n",
    "sospechosos_mexico = pd.DataFrame(s_m,columns= coll)\n",
    "totales\n"
   ]
  },
  {
   "cell_type": "code",
   "execution_count": 14,
   "metadata": {},
   "outputs": [
    {
     "data": {
      "text/plain": [
       "Index(['fecha', 'poblacion', 'Edad0-15', 'Edad16-30', 'Edad31-45', 'Edad46-60',\n",
       "       'Edad61-75', 'Edad76-90', 'Edad91-105', 'hombres', 'mujeres',\n",
       "       'negativos', 'positivos', 'sospechosos', 'defunciones',\n",
       "       'hospitalizados', 'ambulatorios', 'hospitalizados_en_uci',\n",
       "       'hospitalizados_no_uci', 'EMBARAZO', 'INTUBADO', 'NEUMONIA', 'DIABETES',\n",
       "       'EPOC', 'ASMA', 'INMUSUPR', 'HIPERTENSION', 'OTRA_COM',\n",
       "       'CARDIOVASCULAR', 'OBESIDAD', 'RENAL_CRONICA', 'TABAQUISMO',\n",
       "       'OTRO_CASO'],\n",
       "      dtype='object')"
      ]
     },
     "execution_count": 14,
     "metadata": {},
     "output_type": "execute_result"
    }
   ],
   "source": [
    "totales.columns"
   ]
  },
  {
   "cell_type": "code",
   "execution_count": 16,
   "metadata": {},
   "outputs": [],
   "source": [
    "ano= 2021\n",
    "\n",
    "totales_mexico.to_csv(f'totales_mexico-{ano}.csv')\n",
    "confirmados_mexico.to_csv(f'confirmados_mexico-{ano}.csv')\n",
    "negativos_mexico.to_csv(f'negativos_mexico-{ano}.csv')\n",
    "sospechosos_mexico.to_csv(f'sospechosos_mexico-{ano}.csv')\n",
    "#totales.fecha = pd.to_datetime(totales.fecha, format=\"%d.%m.%Y\")\n",
    "#totales.set_index(\"fecha\", inplace=True) \n",
    "totales.to_csv(f'totales-{ano}.csv')"
   ]
  },
  {
   "cell_type": "code",
   "execution_count": 54,
   "metadata": {},
   "outputs": [],
   "source": [
    "totales.to_csv('totales-2023.csv')"
   ]
  },
  {
   "cell_type": "markdown",
   "metadata": {},
   "source": [
    "### eda"
   ]
  },
  {
   "cell_type": "code",
   "execution_count": 51,
   "metadata": {},
   "outputs": [
    {
     "data": {
      "text/plain": [
       "<Axes: xlabel='fecha'>"
      ]
     },
     "execution_count": 51,
     "metadata": {},
     "output_type": "execute_result"
    },
    {
     "data": {
      "image/png": "[encoded data removed]",
      "text/plain": [
       "<Figure size 1200x800 with 1 Axes>"
      ]
     },
     "metadata": {},
     "output_type": "display_data"
    }
   ],
   "source": [
    "#totales.set_index(\"fecha\", inplace=True)  # Asegúrate de que 'fecha' es el índice\n",
    "totales\n",
    "\n",
    "f1 = totales.loc['2023-07':'2023-12',:]\n",
    "f1.positivos.plot(kind='line', stacked=True, figsize=(12,8))\n",
    "#plt.loglog(f1.positivos)\n",
    "# totales.fecha.between_time()totales.iloc[:,2:9].plot(kind='line', stacked=True, figsize=(12,8))\n",
    "# totales.columns"
   ]
  },
  {
   "cell_type": "code",
   "execution_count": 21,
   "metadata": {},
   "outputs": [
    {
     "data": {
      "text/plain": [
       "fecha\n",
       "2023-01-03    53\n",
       "2023-01-10     1\n",
       "2023-01-17     1\n",
       "2023-01-24     1\n",
       "2023-01-31     1\n",
       "2023-02-07     1\n",
       "2023-02-14     1\n",
       "2023-02-21     1\n",
       "2023-02-28     1\n",
       "2023-03-07     1\n",
       "2023-03-14     1\n",
       "2023-03-21     1\n",
       "2023-03-28     1\n",
       "2023-04-04     1\n",
       "2023-04-11     1\n",
       "2023-04-18     1\n",
       "2023-04-25     1\n",
       "2023-05-02     1\n",
       "2023-05-09     1\n",
       "2023-05-17     1\n",
       "2023-05-23     1\n",
       "2023-05-30     1\n",
       "2023-06-06     1\n",
       "2023-06-13     1\n",
       "2023-06-20     1\n",
       "2023-06-27     1\n",
       "2023-07-04     1\n",
       "2023-07-11     1\n",
       "2023-07-18     1\n",
       "2023-07-25     1\n",
       "2023-08-01     1\n",
       "2023-08-08     1\n",
       "2023-08-15     1\n",
       "2023-08-22     1\n",
       "2023-08-29     1\n",
       "2023-09-05     1\n",
       "2023-09-12     1\n",
       "2023-09-19     1\n",
       "2023-09-26     1\n",
       "2023-10-03     1\n",
       "2023-10-10     1\n",
       "2023-10-17     1\n",
       "2023-10-24     1\n",
       "2023-10-31     1\n",
       "2023-11-07     1\n",
       "2023-11-14     1\n",
       "2023-11-21     1\n",
       "2023-11-28     1\n",
       "2023-12-05     1\n",
       "2023-12-12     1\n",
       "2023-12-19     1\n",
       "2023-12-26     1\n",
       "Name: count, dtype: int64"
      ]
     },
     "execution_count": 21,
     "metadata": {},
     "output_type": "execute_result"
    }
   ],
   "source": [
    "totales.fecha.value_counts().sort_index()"
   ]
  }
 ],
 "metadata": {
  "kernelspec": {
   "display_name": "diplo",
   "language": "python",
   "name": "python3"
  },
  "language_info": {
   "codemirror_mode": {
    "name": "ipython",
    "version": 3
   },
   "file_extension": ".py",
   "mimetype": "text/x-python",
   "name": "python",
   "nbconvert_exporter": "python",
   "pygments_lexer": "ipython3",
   "version": "3.9.18"
  }
 },
 "nbformat": 4,
 "nbformat_minor": 2
}
